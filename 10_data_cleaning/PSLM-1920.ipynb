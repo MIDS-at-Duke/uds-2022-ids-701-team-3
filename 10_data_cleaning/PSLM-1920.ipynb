{
 "cells": [
  {
   "cell_type": "markdown",
   "metadata": {},
   "source": [
    "## Cleaning file for 2019-2020"
   ]
  },
  {
   "cell_type": "code",
   "execution_count": 1,
   "metadata": {},
   "outputs": [],
   "source": [
    "import pandas as pd\n",
    "import numpy as np"
   ]
  },
  {
   "cell_type": "code",
   "execution_count": 2,
   "metadata": {},
   "outputs": [
    {
     "data": {
      "text/html": [
       "<div>\n",
       "<style scoped>\n",
       "    .dataframe tbody tr th:only-of-type {\n",
       "        vertical-align: middle;\n",
       "    }\n",
       "\n",
       "    .dataframe tbody tr th {\n",
       "        vertical-align: top;\n",
       "    }\n",
       "\n",
       "    .dataframe thead th {\n",
       "        text-align: right;\n",
       "    }\n",
       "</style>\n",
       "<table border=\"1\" class=\"dataframe\">\n",
       "  <thead>\n",
       "    <tr style=\"text-align: right;\">\n",
       "      <th></th>\n",
       "      <th>hhcode</th>\n",
       "      <th>psu</th>\n",
       "      <th>province</th>\n",
       "      <th>region</th>\n",
       "      <th>district</th>\n",
       "      <th>idc</th>\n",
       "      <th>sb1q2</th>\n",
       "      <th>sb1q3</th>\n",
       "      <th>sb1q4</th>\n",
       "      <th>sb1q5</th>\n",
       "      <th>age</th>\n",
       "      <th>sb1q62</th>\n",
       "      <th>sb1q63</th>\n",
       "      <th>sb1q64</th>\n",
       "      <th>sb1q7</th>\n",
       "      <th>sb1q8</th>\n",
       "      <th>sb1q9</th>\n",
       "      <th>sb1q10</th>\n",
       "      <th>sb1q11</th>\n",
       "    </tr>\n",
       "  </thead>\n",
       "  <tbody>\n",
       "    <tr>\n",
       "      <th>0</th>\n",
       "      <td>101100101</td>\n",
       "      <td>1011001</td>\n",
       "      <td>khyber pakhtunkhwa</td>\n",
       "      <td>rural</td>\n",
       "      <td>abbottabad</td>\n",
       "      <td>1</td>\n",
       "      <td>head</td>\n",
       "      <td>NaN</td>\n",
       "      <td>male</td>\n",
       "      <td>present</td>\n",
       "      <td>58</td>\n",
       "      <td>0</td>\n",
       "      <td>0</td>\n",
       "      <td>1961.0</td>\n",
       "      <td>currently married</td>\n",
       "      <td>2.0</td>\n",
       "      <td>98.0</td>\n",
       "      <td>99.0</td>\n",
       "      <td>yes</td>\n",
       "    </tr>\n",
       "    <tr>\n",
       "      <th>1</th>\n",
       "      <td>101100102</td>\n",
       "      <td>1011001</td>\n",
       "      <td>khyber pakhtunkhwa</td>\n",
       "      <td>rural</td>\n",
       "      <td>abbottabad</td>\n",
       "      <td>1</td>\n",
       "      <td>head</td>\n",
       "      <td>NaN</td>\n",
       "      <td>male</td>\n",
       "      <td>present</td>\n",
       "      <td>64</td>\n",
       "      <td>0</td>\n",
       "      <td>0</td>\n",
       "      <td>1955.0</td>\n",
       "      <td>currently married</td>\n",
       "      <td>2.0</td>\n",
       "      <td>98.0</td>\n",
       "      <td>10.0</td>\n",
       "      <td>yes</td>\n",
       "    </tr>\n",
       "    <tr>\n",
       "      <th>2</th>\n",
       "      <td>101100103</td>\n",
       "      <td>1011001</td>\n",
       "      <td>khyber pakhtunkhwa</td>\n",
       "      <td>rural</td>\n",
       "      <td>abbottabad</td>\n",
       "      <td>1</td>\n",
       "      <td>head</td>\n",
       "      <td>NaN</td>\n",
       "      <td>male</td>\n",
       "      <td>present</td>\n",
       "      <td>35</td>\n",
       "      <td>0</td>\n",
       "      <td>0</td>\n",
       "      <td>1984.0</td>\n",
       "      <td>currently married</td>\n",
       "      <td>2.0</td>\n",
       "      <td>98.0</td>\n",
       "      <td>99.0</td>\n",
       "      <td>yes</td>\n",
       "    </tr>\n",
       "    <tr>\n",
       "      <th>3</th>\n",
       "      <td>101100104</td>\n",
       "      <td>1011001</td>\n",
       "      <td>khyber pakhtunkhwa</td>\n",
       "      <td>rural</td>\n",
       "      <td>abbottabad</td>\n",
       "      <td>1</td>\n",
       "      <td>head</td>\n",
       "      <td>NaN</td>\n",
       "      <td>male</td>\n",
       "      <td>present</td>\n",
       "      <td>56</td>\n",
       "      <td>0</td>\n",
       "      <td>0</td>\n",
       "      <td>1963.0</td>\n",
       "      <td>currently married</td>\n",
       "      <td>2.0</td>\n",
       "      <td>98.0</td>\n",
       "      <td>99.0</td>\n",
       "      <td>yes</td>\n",
       "    </tr>\n",
       "    <tr>\n",
       "      <th>4</th>\n",
       "      <td>101100105</td>\n",
       "      <td>1011001</td>\n",
       "      <td>khyber pakhtunkhwa</td>\n",
       "      <td>rural</td>\n",
       "      <td>abbottabad</td>\n",
       "      <td>1</td>\n",
       "      <td>head</td>\n",
       "      <td>NaN</td>\n",
       "      <td>male</td>\n",
       "      <td>present</td>\n",
       "      <td>50</td>\n",
       "      <td>0</td>\n",
       "      <td>0</td>\n",
       "      <td>1969.0</td>\n",
       "      <td>currently married</td>\n",
       "      <td>2.0</td>\n",
       "      <td>98.0</td>\n",
       "      <td>98.0</td>\n",
       "      <td>yes</td>\n",
       "    </tr>\n",
       "  </tbody>\n",
       "</table>\n",
       "</div>"
      ],
      "text/plain": [
       "      hhcode      psu            province region    district  idc sb1q2 sb1q3  \\\n",
       "0  101100101  1011001  khyber pakhtunkhwa  rural  abbottabad    1  head   NaN   \n",
       "1  101100102  1011001  khyber pakhtunkhwa  rural  abbottabad    1  head   NaN   \n",
       "2  101100103  1011001  khyber pakhtunkhwa  rural  abbottabad    1  head   NaN   \n",
       "3  101100104  1011001  khyber pakhtunkhwa  rural  abbottabad    1  head   NaN   \n",
       "4  101100105  1011001  khyber pakhtunkhwa  rural  abbottabad    1  head   NaN   \n",
       "\n",
       "  sb1q4    sb1q5  age  sb1q62  sb1q63  sb1q64              sb1q7  sb1q8  \\\n",
       "0  male  present   58       0       0  1961.0  currently married    2.0   \n",
       "1  male  present   64       0       0  1955.0  currently married    2.0   \n",
       "2  male  present   35       0       0  1984.0  currently married    2.0   \n",
       "3  male  present   56       0       0  1963.0  currently married    2.0   \n",
       "4  male  present   50       0       0  1969.0  currently married    2.0   \n",
       "\n",
       "   sb1q9  sb1q10 sb1q11  \n",
       "0   98.0    99.0    yes  \n",
       "1   98.0    10.0    yes  \n",
       "2   98.0    99.0    yes  \n",
       "3   98.0    99.0    yes  \n",
       "4   98.0    98.0    yes  "
      ]
     },
     "execution_count": 2,
     "metadata": {},
     "output_type": "execute_result"
    }
   ],
   "source": [
    "roster_data_1920 = pd.read_stata('/Users/preetkhowaja/Documents/midssp2022/unifying/uds-2022-ids-701-team-3/00_source_data/1920_roster.dta')\n",
    "roster_data_1920.head()"
   ]
  },
  {
   "cell_type": "code",
   "execution_count": 3,
   "metadata": {},
   "outputs": [
    {
     "data": {
      "text/html": [
       "<div>\n",
       "<style scoped>\n",
       "    .dataframe tbody tr th:only-of-type {\n",
       "        vertical-align: middle;\n",
       "    }\n",
       "\n",
       "    .dataframe tbody tr th {\n",
       "        vertical-align: top;\n",
       "    }\n",
       "\n",
       "    .dataframe thead th {\n",
       "        text-align: right;\n",
       "    }\n",
       "</style>\n",
       "<table border=\"1\" class=\"dataframe\">\n",
       "  <thead>\n",
       "    <tr style=\"text-align: right;\">\n",
       "      <th></th>\n",
       "      <th>hhcode</th>\n",
       "      <th>psu</th>\n",
       "      <th>province</th>\n",
       "      <th>region</th>\n",
       "      <th>district</th>\n",
       "      <th>idc</th>\n",
       "      <th>sb1q2</th>\n",
       "      <th>sb1q3</th>\n",
       "      <th>sb1q4</th>\n",
       "      <th>sb1q5</th>\n",
       "      <th>...</th>\n",
       "      <th>sb1q62</th>\n",
       "      <th>sb1q63</th>\n",
       "      <th>sb1q64</th>\n",
       "      <th>sb1q7</th>\n",
       "      <th>sb1q8</th>\n",
       "      <th>sb1q9</th>\n",
       "      <th>sb1q10</th>\n",
       "      <th>sb1q11</th>\n",
       "      <th>sex</th>\n",
       "      <th>marital_status</th>\n",
       "    </tr>\n",
       "  </thead>\n",
       "  <tbody>\n",
       "    <tr>\n",
       "      <th>71480</th>\n",
       "      <td>220102011</td>\n",
       "      <td>2201020</td>\n",
       "      <td>punjab</td>\n",
       "      <td>rural</td>\n",
       "      <td>lodhran</td>\n",
       "      <td>1</td>\n",
       "      <td>head</td>\n",
       "      <td>NaN</td>\n",
       "      <td>male</td>\n",
       "      <td>present</td>\n",
       "      <td>...</td>\n",
       "      <td>0</td>\n",
       "      <td>0</td>\n",
       "      <td>1962.0</td>\n",
       "      <td>currently married</td>\n",
       "      <td>2.0</td>\n",
       "      <td>98.0</td>\n",
       "      <td>98.0</td>\n",
       "      <td>yes</td>\n",
       "      <td>male</td>\n",
       "      <td>currently married</td>\n",
       "    </tr>\n",
       "    <tr>\n",
       "      <th>426261</th>\n",
       "      <td>307211502</td>\n",
       "      <td>3072115</td>\n",
       "      <td>sindh</td>\n",
       "      <td>urban</td>\n",
       "      <td>karachi central</td>\n",
       "      <td>3</td>\n",
       "      <td>son/daughter</td>\n",
       "      <td>main economic provider</td>\n",
       "      <td>male</td>\n",
       "      <td>present</td>\n",
       "      <td>...</td>\n",
       "      <td>0</td>\n",
       "      <td>0</td>\n",
       "      <td>2007.0</td>\n",
       "      <td>unmarried / never married</td>\n",
       "      <td>NaN</td>\n",
       "      <td>1.0</td>\n",
       "      <td>2.0</td>\n",
       "      <td>yes</td>\n",
       "      <td>male</td>\n",
       "      <td>unmarried / never married</td>\n",
       "    </tr>\n",
       "    <tr>\n",
       "      <th>443524</th>\n",
       "      <td>321200402</td>\n",
       "      <td>3212004</td>\n",
       "      <td>sindh</td>\n",
       "      <td>urban</td>\n",
       "      <td>shaheed banazir abad</td>\n",
       "      <td>3</td>\n",
       "      <td>son/daughter</td>\n",
       "      <td>main economic provider</td>\n",
       "      <td>male</td>\n",
       "      <td>present</td>\n",
       "      <td>...</td>\n",
       "      <td>0</td>\n",
       "      <td>0</td>\n",
       "      <td>1998.0</td>\n",
       "      <td>unmarried / never married</td>\n",
       "      <td>NaN</td>\n",
       "      <td>1.0</td>\n",
       "      <td>2.0</td>\n",
       "      <td>yes</td>\n",
       "      <td>male</td>\n",
       "      <td>unmarried / never married</td>\n",
       "    </tr>\n",
       "    <tr>\n",
       "      <th>734876</th>\n",
       "      <td>231207314</td>\n",
       "      <td>2312073</td>\n",
       "      <td>punjab</td>\n",
       "      <td>urban</td>\n",
       "      <td>rawalpindi</td>\n",
       "      <td>6</td>\n",
       "      <td>son/daughter</td>\n",
       "      <td>main economic provider</td>\n",
       "      <td>female</td>\n",
       "      <td>present</td>\n",
       "      <td>...</td>\n",
       "      <td>0</td>\n",
       "      <td>0</td>\n",
       "      <td>2003.0</td>\n",
       "      <td>unmarried / never married</td>\n",
       "      <td>NaN</td>\n",
       "      <td>1.0</td>\n",
       "      <td>2.0</td>\n",
       "      <td>yes</td>\n",
       "      <td>female</td>\n",
       "      <td>unmarried / never married</td>\n",
       "    </tr>\n",
       "  </tbody>\n",
       "</table>\n",
       "<p>4 rows × 21 columns</p>\n",
       "</div>"
      ],
      "text/plain": [
       "           hhcode      psu province region              district  idc  \\\n",
       "71480   220102011  2201020   punjab  rural               lodhran    1   \n",
       "426261  307211502  3072115    sindh  urban       karachi central    3   \n",
       "443524  321200402  3212004    sindh  urban  shaheed banazir abad    3   \n",
       "734876  231207314  2312073   punjab  urban            rawalpindi    6   \n",
       "\n",
       "               sb1q2                   sb1q3   sb1q4    sb1q5  ...  sb1q62  \\\n",
       "71480           head                     NaN    male  present  ...       0   \n",
       "426261  son/daughter  main economic provider    male  present  ...       0   \n",
       "443524  son/daughter  main economic provider    male  present  ...       0   \n",
       "734876  son/daughter  main economic provider  female  present  ...       0   \n",
       "\n",
       "        sb1q63  sb1q64                      sb1q7 sb1q8  sb1q9  sb1q10  \\\n",
       "71480        0  1962.0          currently married   2.0   98.0    98.0   \n",
       "426261       0  2007.0  unmarried / never married   NaN    1.0     2.0   \n",
       "443524       0  1998.0  unmarried / never married   NaN    1.0     2.0   \n",
       "734876       0  2003.0  unmarried / never married   NaN    1.0     2.0   \n",
       "\n",
       "        sb1q11     sex             marital_status  \n",
       "71480      yes    male          currently married  \n",
       "426261     yes    male  unmarried / never married  \n",
       "443524     yes    male  unmarried / never married  \n",
       "734876     yes  female  unmarried / never married  \n",
       "\n",
       "[4 rows x 21 columns]"
      ]
     },
     "execution_count": 3,
     "metadata": {},
     "output_type": "execute_result"
    }
   ],
   "source": [
    "# renaming relevant variables from roster\n",
    "roster_data_1920['sex'] = roster_data_1920['sb1q4']\n",
    "roster_data_1920['marital_status'] = roster_data_1920['sb1q7']\n",
    "roster_data_1920.sample(4)"
   ]
  },
  {
   "cell_type": "code",
   "execution_count": 4,
   "metadata": {},
   "outputs": [
    {
     "data": {
      "text/html": [
       "<div>\n",
       "<style scoped>\n",
       "    .dataframe tbody tr th:only-of-type {\n",
       "        vertical-align: middle;\n",
       "    }\n",
       "\n",
       "    .dataframe tbody tr th {\n",
       "        vertical-align: top;\n",
       "    }\n",
       "\n",
       "    .dataframe thead th {\n",
       "        text-align: right;\n",
       "    }\n",
       "</style>\n",
       "<table border=\"1\" class=\"dataframe\">\n",
       "  <thead>\n",
       "    <tr style=\"text-align: right;\">\n",
       "      <th></th>\n",
       "      <th>hhcode</th>\n",
       "      <th>idc</th>\n",
       "      <th>age</th>\n",
       "      <th>sex</th>\n",
       "      <th>marital_status</th>\n",
       "    </tr>\n",
       "  </thead>\n",
       "  <tbody>\n",
       "    <tr>\n",
       "      <th>202799</th>\n",
       "      <td>208103022</td>\n",
       "      <td>2</td>\n",
       "      <td>33</td>\n",
       "      <td>female</td>\n",
       "      <td>currently married</td>\n",
       "    </tr>\n",
       "    <tr>\n",
       "      <th>408533</th>\n",
       "      <td>233101806</td>\n",
       "      <td>3</td>\n",
       "      <td>12</td>\n",
       "      <td>male</td>\n",
       "      <td>unmarried / never married</td>\n",
       "    </tr>\n",
       "    <tr>\n",
       "      <th>95812</th>\n",
       "      <td>232100705</td>\n",
       "      <td>1</td>\n",
       "      <td>58</td>\n",
       "      <td>male</td>\n",
       "      <td>currently married</td>\n",
       "    </tr>\n",
       "    <tr>\n",
       "      <th>435865</th>\n",
       "      <td>314202829</td>\n",
       "      <td>3</td>\n",
       "      <td>5</td>\n",
       "      <td>female</td>\n",
       "      <td>unmarried / never married</td>\n",
       "    </tr>\n",
       "    <tr>\n",
       "      <th>33292</th>\n",
       "      <td>203101808</td>\n",
       "      <td>1</td>\n",
       "      <td>30</td>\n",
       "      <td>male</td>\n",
       "      <td>currently married</td>\n",
       "    </tr>\n",
       "  </tbody>\n",
       "</table>\n",
       "</div>"
      ],
      "text/plain": [
       "           hhcode  idc  age     sex             marital_status\n",
       "202799  208103022    2   33  female          currently married\n",
       "408533  233101806    3   12    male  unmarried / never married\n",
       "95812   232100705    1   58    male          currently married\n",
       "435865  314202829    3    5  female  unmarried / never married\n",
       "33292   203101808    1   30    male          currently married"
      ]
     },
     "execution_count": 4,
     "metadata": {},
     "output_type": "execute_result"
    }
   ],
   "source": [
    "B_relevant = roster_data_1920[['hhcode', 'idc','age', 'sex', 'marital_status']].copy()\n",
    "B_relevant.sample(5)"
   ]
  },
  {
   "cell_type": "code",
   "execution_count": 5,
   "metadata": {},
   "outputs": [
    {
     "data": {
      "text/plain": [
       "Index(['hhcode', 'psu', 'province', 'region', 'idc', 'district', 'sc1q1a',\n",
       "       'sc1q2a', 'sc1q3a', 'sc1q4a', 'sc1q01', 'sc1q02', 'sc1q03', 'sc1q04',\n",
       "       'sc1q05', 'sc1q06', 'sc1q07', 'sc1q08', 'sc1q09', 'sc1q10', 'sc1q11',\n",
       "       'sc1q12', 'sc1q13', 'sc1q14', 'sc1q15', 'sc1q16', 'sc1q17', 'sc1q18',\n",
       "       'sc1q19a', 'sc1q19b', 'sc1q19c', 'sc1q19d', 'sc1q19e', 'sc1q19f',\n",
       "       'sc1q19g', 'sc1q19h', 'sc1q19i'],\n",
       "      dtype='object')"
      ]
     },
     "execution_count": 5,
     "metadata": {},
     "output_type": "execute_result"
    }
   ],
   "source": [
    "educ_data = pd.read_stata('/Users/preetkhowaja/Documents/midssp2022/unifying/uds-2022-ids-701-team-3/00_source_data/1920_secc1.dta',\n",
    "convert_categoricals=False)\n",
    "educ_data.columns"
   ]
  },
  {
   "cell_type": "code",
   "execution_count": 6,
   "metadata": {},
   "outputs": [
    {
     "data": {
      "text/plain": [
       "1    355074\n",
       "2    244505\n",
       "3    214697\n",
       "Name: sc1q01, dtype: int64"
      ]
     },
     "execution_count": 6,
     "metadata": {},
     "output_type": "execute_result"
    }
   ],
   "source": [
    "educ_data.sc1q01.value_counts()"
   ]
  },
  {
   "cell_type": "code",
   "execution_count": 7,
   "metadata": {},
   "outputs": [
    {
     "data": {
      "text/plain": [
       "no     599579\n",
       "yes    214697\n",
       "Name: currently_enrolled, dtype: int64"
      ]
     },
     "execution_count": 7,
     "metadata": {},
     "output_type": "execute_result"
    }
   ],
   "source": [
    "# Create variable for ever_admitted and currently attending\n",
    "educ_data['ever_admitted'] = np.where(educ_data.sc1q01 == 1, 'no', 'yes')\n",
    "educ_data.ever_admitted.value_counts()\n",
    "educ_data['currently_enrolled'] = np.where(educ_data.sc1q01 == 3, 'yes', 'no')\n",
    "educ_data.currently_enrolled.value_counts()"
   ]
  },
  {
   "cell_type": "code",
   "execution_count": 8,
   "metadata": {},
   "outputs": [
    {
     "data": {
      "text/html": [
       "<div>\n",
       "<style scoped>\n",
       "    .dataframe tbody tr th:only-of-type {\n",
       "        vertical-align: middle;\n",
       "    }\n",
       "\n",
       "    .dataframe tbody tr th {\n",
       "        vertical-align: top;\n",
       "    }\n",
       "\n",
       "    .dataframe thead th {\n",
       "        text-align: right;\n",
       "    }\n",
       "</style>\n",
       "<table border=\"1\" class=\"dataframe\">\n",
       "  <thead>\n",
       "    <tr style=\"text-align: right;\">\n",
       "      <th></th>\n",
       "      <th>hhcode</th>\n",
       "      <th>idc</th>\n",
       "      <th>ever_admitted</th>\n",
       "      <th>currently_enrolled</th>\n",
       "      <th>region</th>\n",
       "      <th>province</th>\n",
       "    </tr>\n",
       "  </thead>\n",
       "  <tbody>\n",
       "    <tr>\n",
       "      <th>115864</th>\n",
       "      <td>123101222</td>\n",
       "      <td>5</td>\n",
       "      <td>yes</td>\n",
       "      <td>yes</td>\n",
       "      <td>1</td>\n",
       "      <td>1</td>\n",
       "    </tr>\n",
       "    <tr>\n",
       "      <th>440203</th>\n",
       "      <td>226100802</td>\n",
       "      <td>6</td>\n",
       "      <td>yes</td>\n",
       "      <td>no</td>\n",
       "      <td>1</td>\n",
       "      <td>2</td>\n",
       "    </tr>\n",
       "    <tr>\n",
       "      <th>481765</th>\n",
       "      <td>230103316</td>\n",
       "      <td>2</td>\n",
       "      <td>yes</td>\n",
       "      <td>yes</td>\n",
       "      <td>1</td>\n",
       "      <td>2</td>\n",
       "    </tr>\n",
       "    <tr>\n",
       "      <th>318534</th>\n",
       "      <td>214200603</td>\n",
       "      <td>2</td>\n",
       "      <td>no</td>\n",
       "      <td>no</td>\n",
       "      <td>2</td>\n",
       "      <td>2</td>\n",
       "    </tr>\n",
       "    <tr>\n",
       "      <th>17230</th>\n",
       "      <td>104101217</td>\n",
       "      <td>4</td>\n",
       "      <td>yes</td>\n",
       "      <td>no</td>\n",
       "      <td>1</td>\n",
       "      <td>1</td>\n",
       "    </tr>\n",
       "  </tbody>\n",
       "</table>\n",
       "</div>"
      ],
      "text/plain": [
       "           hhcode  idc ever_admitted currently_enrolled  region  province\n",
       "115864  123101222    5           yes                yes       1         1\n",
       "440203  226100802    6           yes                 no       1         2\n",
       "481765  230103316    2           yes                yes       1         2\n",
       "318534  214200603    2            no                 no       2         2\n",
       "17230   104101217    4           yes                 no       1         1"
      ]
     },
     "execution_count": 8,
     "metadata": {},
     "output_type": "execute_result"
    }
   ],
   "source": [
    "C_relevant = educ_data[\n",
    "    [\n",
    "        \"hhcode\",\n",
    "        \"idc\",\n",
    "        \"ever_admitted\",\n",
    "        \"currently_enrolled\",\n",
    "        \"region\",\n",
    "        \"province\"\n",
    "    ]\n",
    "].copy()\n",
    "\n",
    "C_relevant.sample(5)"
   ]
  },
  {
   "cell_type": "code",
   "execution_count": 9,
   "metadata": {},
   "outputs": [
    {
     "data": {
      "text/plain": [
       "no     599579\n",
       "yes    214697\n",
       "Name: currently_enrolled, dtype: int64"
      ]
     },
     "execution_count": 9,
     "metadata": {},
     "output_type": "execute_result"
    }
   ],
   "source": [
    "# MERGE \n",
    "years19_20 = pd.merge(B_relevant, C_relevant, on=[\"hhcode\", 'idc'], how='inner', indicator=False)\n",
    "# Evaluate merge by checking value counts for currently enrolled individuals\n",
    "years19_20.currently_enrolled.value_counts()"
   ]
  },
  {
   "cell_type": "code",
   "execution_count": 10,
   "metadata": {},
   "outputs": [],
   "source": [
    "# Select people in school enrollment age (I would say 4-10 years old)\n",
    "years19_20 = years19_20.loc[(years19_20[\"age\"] >= 4)&(years19_20[\"age\"] <= 10)]\n"
   ]
  },
  {
   "cell_type": "code",
   "execution_count": 11,
   "metadata": {},
   "outputs": [
    {
     "data": {
      "text/plain": [
       "2    81164\n",
       "1    41991\n",
       "3    39367\n",
       "4    20352\n",
       "Name: province, dtype: int64"
      ]
     },
     "execution_count": 11,
     "metadata": {},
     "output_type": "execute_result"
    }
   ],
   "source": [
    "years19_20.province.value_counts()"
   ]
  },
  {
   "cell_type": "code",
   "execution_count": 12,
   "metadata": {},
   "outputs": [
    {
     "data": {
      "text/plain": [
       "Punjab         81164\n",
       "KPK            41991\n",
       "Sindh          39367\n",
       "Balochistan    20352\n",
       "Name: province, dtype: int64"
      ]
     },
     "execution_count": 12,
     "metadata": {},
     "output_type": "execute_result"
    }
   ],
   "source": [
    "# Re-spell the names\n",
    "years19_20['province'].replace(2, 'Punjab', inplace = True)\n",
    "years19_20['province'].replace(1, 'KPK', inplace = True)\n",
    "years19_20['province'].replace(3, 'Sindh', inplace = True)\n",
    "years19_20['province'].replace(4, 'Balochistan', inplace = True)\n",
    "years19_20.province.value_counts()"
   ]
  },
  {
   "cell_type": "code",
   "execution_count": 13,
   "metadata": {},
   "outputs": [
    {
     "data": {
      "text/html": [
       "<div>\n",
       "<style scoped>\n",
       "    .dataframe tbody tr th:only-of-type {\n",
       "        vertical-align: middle;\n",
       "    }\n",
       "\n",
       "    .dataframe tbody tr th {\n",
       "        vertical-align: top;\n",
       "    }\n",
       "\n",
       "    .dataframe thead th {\n",
       "        text-align: right;\n",
       "    }\n",
       "</style>\n",
       "<table border=\"1\" class=\"dataframe\">\n",
       "  <thead>\n",
       "    <tr style=\"text-align: right;\">\n",
       "      <th></th>\n",
       "      <th>hhcode</th>\n",
       "      <th>idc</th>\n",
       "      <th>age</th>\n",
       "      <th>sex</th>\n",
       "      <th>marital_status</th>\n",
       "      <th>ever_admitted</th>\n",
       "      <th>currently_enrolled</th>\n",
       "      <th>region</th>\n",
       "      <th>province</th>\n",
       "      <th>subprovince code</th>\n",
       "    </tr>\n",
       "  </thead>\n",
       "  <tbody>\n",
       "    <tr>\n",
       "      <th>30235</th>\n",
       "      <td>202100124</td>\n",
       "      <td>1</td>\n",
       "      <td>10</td>\n",
       "      <td>female</td>\n",
       "      <td>unmarried / never married</td>\n",
       "      <td>yes</td>\n",
       "      <td>yes</td>\n",
       "      <td>1</td>\n",
       "      <td>Punjab</td>\n",
       "      <td>2021</td>\n",
       "    </tr>\n",
       "    <tr>\n",
       "      <th>48183</th>\n",
       "      <td>209105225</td>\n",
       "      <td>1</td>\n",
       "      <td>10</td>\n",
       "      <td>female</td>\n",
       "      <td>unmarried / never married</td>\n",
       "      <td>yes</td>\n",
       "      <td>yes</td>\n",
       "      <td>1</td>\n",
       "      <td>Punjab</td>\n",
       "      <td>2091</td>\n",
       "    </tr>\n",
       "    <tr>\n",
       "      <th>89276</th>\n",
       "      <td>229200805</td>\n",
       "      <td>1</td>\n",
       "      <td>10</td>\n",
       "      <td>male</td>\n",
       "      <td>unmarried / never married</td>\n",
       "      <td>yes</td>\n",
       "      <td>yes</td>\n",
       "      <td>2</td>\n",
       "      <td>Punjab</td>\n",
       "      <td>2292</td>\n",
       "    </tr>\n",
       "    <tr>\n",
       "      <th>155736</th>\n",
       "      <td>425100319</td>\n",
       "      <td>1</td>\n",
       "      <td>5</td>\n",
       "      <td>female</td>\n",
       "      <td>unmarried / never married</td>\n",
       "      <td>yes</td>\n",
       "      <td>yes</td>\n",
       "      <td>1</td>\n",
       "      <td>Balochistan</td>\n",
       "      <td>4251</td>\n",
       "    </tr>\n",
       "    <tr>\n",
       "      <th>160018</th>\n",
       "      <td>101100115</td>\n",
       "      <td>2</td>\n",
       "      <td>10</td>\n",
       "      <td>male</td>\n",
       "      <td>unmarried / never married</td>\n",
       "      <td>yes</td>\n",
       "      <td>yes</td>\n",
       "      <td>1</td>\n",
       "      <td>KPK</td>\n",
       "      <td>1011</td>\n",
       "    </tr>\n",
       "  </tbody>\n",
       "</table>\n",
       "</div>"
      ],
      "text/plain": [
       "           hhcode  idc  age     sex             marital_status ever_admitted  \\\n",
       "30235   202100124    1   10  female  unmarried / never married           yes   \n",
       "48183   209105225    1   10  female  unmarried / never married           yes   \n",
       "89276   229200805    1   10    male  unmarried / never married           yes   \n",
       "155736  425100319    1    5  female  unmarried / never married           yes   \n",
       "160018  101100115    2   10    male  unmarried / never married           yes   \n",
       "\n",
       "       currently_enrolled  region     province  subprovince code  \n",
       "30235                 yes       1       Punjab              2021  \n",
       "48183                 yes       1       Punjab              2091  \n",
       "89276                 yes       2       Punjab              2292  \n",
       "155736                yes       1  Balochistan              4251  \n",
       "160018                yes       1          KPK              1011  "
      ]
     },
     "execution_count": 13,
     "metadata": {},
     "output_type": "execute_result"
    }
   ],
   "source": [
    "# Lets see which hh codes we have:\n",
    "years19_20[\"hhcode\"] = years19_20[\"hhcode\"].astype(\"str\")\n",
    "years19_20['subprovince code']= years19_20['hhcode'].apply(lambda x: x[0:4])\n",
    "years19_20[\"subprovince code\"] = years19_20[\"subprovince code\"].astype(\"int\")\n",
    "years19_20.head()"
   ]
  },
  {
   "cell_type": "code",
   "execution_count": 14,
   "metadata": {},
   "outputs": [
    {
     "data": {
      "text/html": [
       "<div>\n",
       "<style scoped>\n",
       "    .dataframe tbody tr th:only-of-type {\n",
       "        vertical-align: middle;\n",
       "    }\n",
       "\n",
       "    .dataframe tbody tr th {\n",
       "        vertical-align: top;\n",
       "    }\n",
       "\n",
       "    .dataframe thead th {\n",
       "        text-align: right;\n",
       "    }\n",
       "</style>\n",
       "<table border=\"1\" class=\"dataframe\">\n",
       "  <thead>\n",
       "    <tr style=\"text-align: right;\">\n",
       "      <th></th>\n",
       "      <th>subprovince</th>\n",
       "      <th>subprovince code</th>\n",
       "    </tr>\n",
       "  </thead>\n",
       "  <tbody>\n",
       "    <tr>\n",
       "      <th>56</th>\n",
       "      <td>Nankana Sahib</td>\n",
       "      <td>2252</td>\n",
       "    </tr>\n",
       "    <tr>\n",
       "      <th>61</th>\n",
       "      <td>Rajanpur</td>\n",
       "      <td>2302</td>\n",
       "    </tr>\n",
       "  </tbody>\n",
       "</table>\n",
       "</div>"
      ],
      "text/plain": [
       "      subprovince  subprovince code\n",
       "56  Nankana Sahib              2252\n",
       "61       Rajanpur              2302"
      ]
     },
     "execution_count": 14,
     "metadata": {},
     "output_type": "execute_result"
    }
   ],
   "source": [
    "# Add stratum data\n",
    "stratum_1920 = pd.read_csv('/Users/preetkhowaja/Documents/midssp2022/unifying/uds-2022-ids-701-team-3/00_source_data/stratum1920.csv')\n",
    "stratum_1920.sample(2)"
   ]
  },
  {
   "cell_type": "code",
   "execution_count": 15,
   "metadata": {},
   "outputs": [
    {
     "data": {
      "text/plain": [
       "both          182874\n",
       "left_only          0\n",
       "right_only         0\n",
       "Name: _merge, dtype: int64"
      ]
     },
     "execution_count": 15,
     "metadata": {},
     "output_type": "execute_result"
    }
   ],
   "source": [
    "# Merge stratum data with edu and sex data\n",
    "years19_20_ = pd.merge(years19_20, stratum_1920, on=[\"subprovince code\"], how='inner', indicator=True)\n",
    "\n",
    "# Evaluate merge \n",
    "years19_20_._merge.value_counts()"
   ]
  },
  {
   "cell_type": "code",
   "execution_count": 16,
   "metadata": {},
   "outputs": [
    {
     "data": {
      "text/html": [
       "<div>\n",
       "<style scoped>\n",
       "    .dataframe tbody tr th:only-of-type {\n",
       "        vertical-align: middle;\n",
       "    }\n",
       "\n",
       "    .dataframe tbody tr th {\n",
       "        vertical-align: top;\n",
       "    }\n",
       "\n",
       "    .dataframe thead th {\n",
       "        text-align: right;\n",
       "    }\n",
       "</style>\n",
       "<table border=\"1\" class=\"dataframe\">\n",
       "  <thead>\n",
       "    <tr style=\"text-align: right;\">\n",
       "      <th></th>\n",
       "      <th>hhcode</th>\n",
       "      <th>idc</th>\n",
       "      <th>age</th>\n",
       "      <th>sex</th>\n",
       "      <th>marital_status</th>\n",
       "      <th>ever_admitted</th>\n",
       "      <th>currently_enrolled</th>\n",
       "      <th>region</th>\n",
       "      <th>province</th>\n",
       "      <th>subprovince code</th>\n",
       "      <th>subprovince</th>\n",
       "    </tr>\n",
       "  </thead>\n",
       "  <tbody>\n",
       "    <tr>\n",
       "      <th>0</th>\n",
       "      <td>202100124</td>\n",
       "      <td>1</td>\n",
       "      <td>10</td>\n",
       "      <td>female</td>\n",
       "      <td>unmarried / never married</td>\n",
       "      <td>yes</td>\n",
       "      <td>yes</td>\n",
       "      <td>1</td>\n",
       "      <td>Punjab</td>\n",
       "      <td>2021</td>\n",
       "      <td>Bahawalnagar</td>\n",
       "    </tr>\n",
       "    <tr>\n",
       "      <th>1</th>\n",
       "      <td>202100214</td>\n",
       "      <td>2</td>\n",
       "      <td>9</td>\n",
       "      <td>male</td>\n",
       "      <td>unmarried / never married</td>\n",
       "      <td>yes</td>\n",
       "      <td>yes</td>\n",
       "      <td>1</td>\n",
       "      <td>Punjab</td>\n",
       "      <td>2021</td>\n",
       "      <td>Bahawalnagar</td>\n",
       "    </tr>\n",
       "    <tr>\n",
       "      <th>2</th>\n",
       "      <td>202100226</td>\n",
       "      <td>2</td>\n",
       "      <td>6</td>\n",
       "      <td>male</td>\n",
       "      <td>unmarried / never married</td>\n",
       "      <td>yes</td>\n",
       "      <td>yes</td>\n",
       "      <td>1</td>\n",
       "      <td>Punjab</td>\n",
       "      <td>2021</td>\n",
       "      <td>Bahawalnagar</td>\n",
       "    </tr>\n",
       "    <tr>\n",
       "      <th>3</th>\n",
       "      <td>202100312</td>\n",
       "      <td>2</td>\n",
       "      <td>6</td>\n",
       "      <td>male</td>\n",
       "      <td>unmarried / never married</td>\n",
       "      <td>no</td>\n",
       "      <td>no</td>\n",
       "      <td>1</td>\n",
       "      <td>Punjab</td>\n",
       "      <td>2021</td>\n",
       "      <td>Bahawalnagar</td>\n",
       "    </tr>\n",
       "    <tr>\n",
       "      <th>4</th>\n",
       "      <td>202100516</td>\n",
       "      <td>2</td>\n",
       "      <td>7</td>\n",
       "      <td>male</td>\n",
       "      <td>unmarried / never married</td>\n",
       "      <td>yes</td>\n",
       "      <td>yes</td>\n",
       "      <td>1</td>\n",
       "      <td>Punjab</td>\n",
       "      <td>2021</td>\n",
       "      <td>Bahawalnagar</td>\n",
       "    </tr>\n",
       "  </tbody>\n",
       "</table>\n",
       "</div>"
      ],
      "text/plain": [
       "      hhcode  idc  age     sex             marital_status ever_admitted  \\\n",
       "0  202100124    1   10  female  unmarried / never married           yes   \n",
       "1  202100214    2    9    male  unmarried / never married           yes   \n",
       "2  202100226    2    6    male  unmarried / never married           yes   \n",
       "3  202100312    2    6    male  unmarried / never married            no   \n",
       "4  202100516    2    7    male  unmarried / never married           yes   \n",
       "\n",
       "  currently_enrolled  region province  subprovince code   subprovince  \n",
       "0                yes       1   Punjab              2021  Bahawalnagar  \n",
       "1                yes       1   Punjab              2021  Bahawalnagar  \n",
       "2                yes       1   Punjab              2021  Bahawalnagar  \n",
       "3                 no       1   Punjab              2021  Bahawalnagar  \n",
       "4                yes       1   Punjab              2021  Bahawalnagar  "
      ]
     },
     "execution_count": 16,
     "metadata": {},
     "output_type": "execute_result"
    }
   ],
   "source": [
    "years19_20_.drop(columns= ['_merge'], inplace = True)\n",
    "years19_20_.head()"
   ]
  },
  {
   "cell_type": "code",
   "execution_count": 17,
   "metadata": {},
   "outputs": [],
   "source": [
    "# Indicator for year\n",
    "years19_20_['Year'] = 2019\n"
   ]
  },
  {
   "cell_type": "code",
   "execution_count": 18,
   "metadata": {},
   "outputs": [
    {
     "data": {
      "text/plain": [
       "unmarried / never married                         182873\n",
       "divorced                                               1\n",
       "0                                                      0\n",
       "currently married                                      0\n",
       "widow / widower                                        0\n",
       "separated                                              0\n",
       "nikkah solemnized but rukhsati not taken place         0\n",
       "Name: marital_status, dtype: int64"
      ]
     },
     "execution_count": 18,
     "metadata": {},
     "output_type": "execute_result"
    }
   ],
   "source": [
    "years19_20_.marital_status.value_counts()"
   ]
  },
  {
   "cell_type": "code",
   "execution_count": 19,
   "metadata": {},
   "outputs": [
    {
     "data": {
      "text/plain": [
       "1    182873\n",
       "4         1\n",
       "0         0\n",
       "2         0\n",
       "3         0\n",
       "5         0\n",
       "Name: marital_status, dtype: int64"
      ]
     },
     "execution_count": 19,
     "metadata": {},
     "output_type": "execute_result"
    }
   ],
   "source": [
    "# Recode marital status\n",
    "years19_20_.marital_status.replace('unmarried / never married', 1, inplace = True)\n",
    "years19_20_.marital_status.replace('currently married', 2, inplace = True)\n",
    "years19_20_.marital_status.replace('widow / widower', 3, inplace = True)\n",
    "years19_20_.marital_status.replace('separated', 4, inplace = True)\n",
    "years19_20_.marital_status.replace('divorced', 4, inplace = True)\n",
    "years19_20_.marital_status.replace('nikkah solemnized but rukhsati not taken place', 5, inplace = True)\n",
    "years19_20_.marital_status.value_counts()"
   ]
  },
  {
   "cell_type": "code",
   "execution_count": 20,
   "metadata": {},
   "outputs": [
    {
     "data": {
      "text/plain": [
       "1    136566\n",
       "2     46308\n",
       "Name: region, dtype: int64"
      ]
     },
     "execution_count": 20,
     "metadata": {},
     "output_type": "execute_result"
    }
   ],
   "source": [
    "years19_20_.marital_status = years19_20_.marital_status.astype('int')\n",
    "years19_20_.region.value_counts()"
   ]
  },
  {
   "cell_type": "code",
   "execution_count": 21,
   "metadata": {},
   "outputs": [],
   "source": [
    "#Re-code region\n",
    "years19_20_.region.replace(1, 'rural', inplace = True)\n",
    "years19_20_.region.replace(2, 'urban', inplace = True)\n"
   ]
  },
  {
   "cell_type": "code",
   "execution_count": 22,
   "metadata": {},
   "outputs": [
    {
     "data": {
      "text/plain": [
       "hhcode                  object\n",
       "idc                       int8\n",
       "age                      int16\n",
       "sex                   category\n",
       "marital_status           int64\n",
       "ever_admitted           object\n",
       "currently_enrolled      object\n",
       "region                  object\n",
       "province                object\n",
       "subprovince code         int64\n",
       "subprovince             object\n",
       "Year                     int64\n",
       "dtype: object"
      ]
     },
     "execution_count": 22,
     "metadata": {},
     "output_type": "execute_result"
    }
   ],
   "source": [
    "years19_20_.dtypes"
   ]
  },
  {
   "cell_type": "code",
   "execution_count": 23,
   "metadata": {},
   "outputs": [],
   "source": [
    "# Save to csv\n",
    "years19_20_.to_csv('/Users/preetkhowaja/Documents/midssp2022/unifying/uds-2022-ids-701-team-3/10_data_cleaning/clean_preet/years19_20_.csv', index_label='id')"
   ]
  },
  {
   "cell_type": "code",
   "execution_count": 24,
   "metadata": {},
   "outputs": [
    {
     "data": {
      "text/plain": [
       "male      97552\n",
       "female    85322\n",
       "0             0\n",
       "Name: sex, dtype: int64"
      ]
     },
     "execution_count": 24,
     "metadata": {},
     "output_type": "execute_result"
    }
   ],
   "source": [
    "years19_20_.sex.value_counts()"
   ]
  },
  {
   "cell_type": "code",
   "execution_count": 25,
   "metadata": {},
   "outputs": [],
   "source": [
    "years19_20_['sex_new'] = np.where(years19_20_.sex == 'female', 'female', 'male')"
   ]
  },
  {
   "cell_type": "code",
   "execution_count": 26,
   "metadata": {},
   "outputs": [
    {
     "data": {
      "text/plain": [
       "male      97552\n",
       "female    85322\n",
       "Name: sex_new, dtype: int64"
      ]
     },
     "execution_count": 26,
     "metadata": {},
     "output_type": "execute_result"
    }
   ],
   "source": [
    "years19_20_.sex_new.value_counts()"
   ]
  },
  {
   "cell_type": "code",
   "execution_count": 27,
   "metadata": {},
   "outputs": [
    {
     "data": {
      "text/plain": [
       "male      97552\n",
       "female    85322\n",
       "0             0\n",
       "Name: sex, dtype: int64"
      ]
     },
     "execution_count": 27,
     "metadata": {},
     "output_type": "execute_result"
    }
   ],
   "source": [
    "years19_20_.sex.value_counts()"
   ]
  },
  {
   "cell_type": "code",
   "execution_count": 28,
   "metadata": {},
   "outputs": [
    {
     "data": {
      "text/plain": [
       "both          462\n",
       "left_only       0\n",
       "right_only      0\n",
       "Name: _merge, dtype: int64"
      ]
     },
     "execution_count": 28,
     "metadata": {},
     "output_type": "execute_result"
    }
   ],
   "source": [
    "# PRE-PROCESSING FOR DIFF-IN-DIFF DATA\n",
    "# convert currently_enrolled from string to integer\n",
    "years19_20_[\"currently_enrolled\"].replace(\"yes\", 1, inplace=True)\n",
    "years19_20_[\"currently_enrolled\"].replace(\"no\", 0, inplace=True)\n",
    "\n",
    "#check region for anomalies\n",
    "# years19_20_.region.value_counts()\n",
    "# years19_20_[\"region\"].replace(3, \"urban\", inplace=True)\n",
    "# aggregate dataset for sample population\n",
    "df_grp_1 = years19_20_.groupby([\"sex_new\",\"subprovince\",\"region\"])[\"currently_enrolled\"].count().reset_index()\n",
    "# aggregate dataset for enrollment total\n",
    "df_grp_2 = years19_20_.groupby([\"sex_new\",\"subprovince\",\"region\"])[\"currently_enrolled\"].sum().reset_index()\n",
    "# merge data set\n",
    "df_grp_merge = pd.merge(df_grp_1, df_grp_2, on=[\"sex_new\",\"subprovince\",\"region\"], indicator=True)\n",
    "# check merge\n",
    "df_grp_merge._merge.value_counts()"
   ]
  },
  {
   "cell_type": "code",
   "execution_count": 29,
   "metadata": {},
   "outputs": [
    {
     "data": {
      "text/plain": [
       "female    231\n",
       "male      231\n",
       "Name: sex_new, dtype: int64"
      ]
     },
     "execution_count": 29,
     "metadata": {},
     "output_type": "execute_result"
    }
   ],
   "source": [
    "df_grp_merge.sex_new.value_counts()"
   ]
  },
  {
   "cell_type": "code",
   "execution_count": 30,
   "metadata": {},
   "outputs": [
    {
     "data": {
      "text/html": [
       "<div>\n",
       "<style scoped>\n",
       "    .dataframe tbody tr th:only-of-type {\n",
       "        vertical-align: middle;\n",
       "    }\n",
       "\n",
       "    .dataframe tbody tr th {\n",
       "        vertical-align: top;\n",
       "    }\n",
       "\n",
       "    .dataframe thead th {\n",
       "        text-align: right;\n",
       "    }\n",
       "</style>\n",
       "<table border=\"1\" class=\"dataframe\">\n",
       "  <thead>\n",
       "    <tr style=\"text-align: right;\">\n",
       "      <th></th>\n",
       "      <th>sex</th>\n",
       "      <th>subprovince</th>\n",
       "      <th>region</th>\n",
       "      <th>currently_enrolled_x</th>\n",
       "      <th>currently_enrolled_y</th>\n",
       "      <th>_merge</th>\n",
       "    </tr>\n",
       "  </thead>\n",
       "  <tbody>\n",
       "    <tr>\n",
       "      <th>0</th>\n",
       "      <td>female</td>\n",
       "      <td>Abbottabad</td>\n",
       "      <td>rural</td>\n",
       "      <td>371</td>\n",
       "      <td>318</td>\n",
       "      <td>both</td>\n",
       "    </tr>\n",
       "    <tr>\n",
       "      <th>1</th>\n",
       "      <td>female</td>\n",
       "      <td>Abbottabad</td>\n",
       "      <td>urban</td>\n",
       "      <td>48</td>\n",
       "      <td>43</td>\n",
       "      <td>both</td>\n",
       "    </tr>\n",
       "    <tr>\n",
       "      <th>2</th>\n",
       "      <td>female</td>\n",
       "      <td>Attock</td>\n",
       "      <td>rural</td>\n",
       "      <td>449</td>\n",
       "      <td>366</td>\n",
       "      <td>both</td>\n",
       "    </tr>\n",
       "    <tr>\n",
       "      <th>3</th>\n",
       "      <td>female</td>\n",
       "      <td>Attock</td>\n",
       "      <td>urban</td>\n",
       "      <td>144</td>\n",
       "      <td>112</td>\n",
       "      <td>both</td>\n",
       "    </tr>\n",
       "    <tr>\n",
       "      <th>4</th>\n",
       "      <td>female</td>\n",
       "      <td>Awaran</td>\n",
       "      <td>rural</td>\n",
       "      <td>153</td>\n",
       "      <td>47</td>\n",
       "      <td>both</td>\n",
       "    </tr>\n",
       "  </tbody>\n",
       "</table>\n",
       "</div>"
      ],
      "text/plain": [
       "      sex subprovince region  currently_enrolled_x  currently_enrolled_y  \\\n",
       "0  female  Abbottabad  rural                   371                   318   \n",
       "1  female  Abbottabad  urban                    48                    43   \n",
       "2  female      Attock  rural                   449                   366   \n",
       "3  female      Attock  urban                   144                   112   \n",
       "4  female      Awaran  rural                   153                    47   \n",
       "\n",
       "  _merge  \n",
       "0   both  \n",
       "1   both  \n",
       "2   both  \n",
       "3   both  \n",
       "4   both  "
      ]
     },
     "execution_count": 30,
     "metadata": {},
     "output_type": "execute_result"
    }
   ],
   "source": [
    "df_grp_merge.rename(columns = {'sex_new': 'sex'}, inplace=True)\n",
    "df_grp_merge.head()"
   ]
  },
  {
   "cell_type": "code",
   "execution_count": 31,
   "metadata": {},
   "outputs": [
    {
     "data": {
      "text/plain": [
       "female    231\n",
       "male      231\n",
       "Name: sex, dtype: int64"
      ]
     },
     "execution_count": 31,
     "metadata": {},
     "output_type": "execute_result"
    }
   ],
   "source": [
    "df_grp_merge.sex.value_counts()"
   ]
  },
  {
   "cell_type": "code",
   "execution_count": 32,
   "metadata": {},
   "outputs": [
    {
     "data": {
      "text/html": [
       "<div>\n",
       "<style scoped>\n",
       "    .dataframe tbody tr th:only-of-type {\n",
       "        vertical-align: middle;\n",
       "    }\n",
       "\n",
       "    .dataframe tbody tr th {\n",
       "        vertical-align: top;\n",
       "    }\n",
       "\n",
       "    .dataframe thead th {\n",
       "        text-align: right;\n",
       "    }\n",
       "</style>\n",
       "<table border=\"1\" class=\"dataframe\">\n",
       "  <thead>\n",
       "    <tr style=\"text-align: right;\">\n",
       "      <th></th>\n",
       "      <th>sex</th>\n",
       "      <th>subprovince</th>\n",
       "      <th>region</th>\n",
       "      <th>sample_population</th>\n",
       "      <th>enrolled_total</th>\n",
       "      <th>rate_enrollment</th>\n",
       "    </tr>\n",
       "  </thead>\n",
       "  <tbody>\n",
       "    <tr>\n",
       "      <th>205</th>\n",
       "      <td>female</td>\n",
       "      <td>Swabi</td>\n",
       "      <td>urban</td>\n",
       "      <td>97</td>\n",
       "      <td>68</td>\n",
       "      <td>0.701031</td>\n",
       "    </tr>\n",
       "    <tr>\n",
       "      <th>61</th>\n",
       "      <td>female</td>\n",
       "      <td>Jacobabad</td>\n",
       "      <td>rural</td>\n",
       "      <td>465</td>\n",
       "      <td>91</td>\n",
       "      <td>0.195699</td>\n",
       "    </tr>\n",
       "    <tr>\n",
       "      <th>96</th>\n",
       "      <td>female</td>\n",
       "      <td>Khushab</td>\n",
       "      <td>urban</td>\n",
       "      <td>135</td>\n",
       "      <td>105</td>\n",
       "      <td>0.777778</td>\n",
       "    </tr>\n",
       "    <tr>\n",
       "      <th>398</th>\n",
       "      <td>male</td>\n",
       "      <td>Qilla Saifullah</td>\n",
       "      <td>rural</td>\n",
       "      <td>726</td>\n",
       "      <td>382</td>\n",
       "      <td>0.526171</td>\n",
       "    </tr>\n",
       "    <tr>\n",
       "      <th>348</th>\n",
       "      <td>male</td>\n",
       "      <td>Lodhran</td>\n",
       "      <td>urban</td>\n",
       "      <td>113</td>\n",
       "      <td>89</td>\n",
       "      <td>0.787611</td>\n",
       "    </tr>\n",
       "  </tbody>\n",
       "</table>\n",
       "</div>"
      ],
      "text/plain": [
       "        sex      subprovince region  sample_population  enrolled_total  \\\n",
       "205  female            Swabi  urban                 97              68   \n",
       "61   female        Jacobabad  rural                465              91   \n",
       "96   female          Khushab  urban                135             105   \n",
       "398    male  Qilla Saifullah  rural                726             382   \n",
       "348    male          Lodhran  urban                113              89   \n",
       "\n",
       "     rate_enrollment  \n",
       "205         0.701031  \n",
       "61          0.195699  \n",
       "96          0.777778  \n",
       "398         0.526171  \n",
       "348         0.787611  "
      ]
     },
     "execution_count": 32,
     "metadata": {},
     "output_type": "execute_result"
    }
   ],
   "source": [
    "# Code Cell 2:\n",
    "# compute enrollment_rate\n",
    "df_grp_merge[\"rate_enrollment\"] = (\n",
    "    df_grp_merge[\"currently_enrolled_y\"] / df_grp_merge[\"currently_enrolled_x\"]\n",
    ")\n",
    "# rename columns\n",
    "df_grp_merge = df_grp_merge.rename(\n",
    "    columns={\n",
    "        \"currently_enrolled_x\": \"sample_population\",\n",
    "        \"currently_enrolled_y\": \"enrolled_total\",\n",
    "    }\n",
    ")\n",
    "# drop \"_merge\" column\n",
    "df_grp_merge.drop([\"_merge\"], axis=1, inplace=True)\n",
    "df_grp_merge.sample(5)\n"
   ]
  },
  {
   "cell_type": "code",
   "execution_count": 33,
   "metadata": {},
   "outputs": [
    {
     "data": {
      "text/plain": [
       "0.5520207911057974"
      ]
     },
     "execution_count": 33,
     "metadata": {},
     "output_type": "execute_result"
    }
   ],
   "source": [
    "# Average rate of enrolment for females in 2019-2020 data\n",
    "df_grp_merge['rate_enrollment'].loc[df_grp_merge.sex == 'female'].mean()"
   ]
  },
  {
   "cell_type": "code",
   "execution_count": 34,
   "metadata": {},
   "outputs": [
    {
     "data": {
      "text/plain": [
       "0.6404918770781584"
      ]
     },
     "execution_count": 34,
     "metadata": {},
     "output_type": "execute_result"
    }
   ],
   "source": [
    "# Average rate of enrolment for females in 2019-2020 data\n",
    "df_grp_merge['rate_enrollment'].loc[df_grp_merge.sex == 'male'].mean()"
   ]
  },
  {
   "cell_type": "code",
   "execution_count": 35,
   "metadata": {},
   "outputs": [],
   "source": [
    "#Code Cell 3:\n",
    "# save clean difference-in-difference data set\n",
    "df_grp_merge.to_csv(\"/Users/preetkhowaja/Documents/midssp2022/unifying/uds-2022-ids-701-team-3/20_analysis/enrollment_clean/years19_20_merge_diff.csv\")\n"
   ]
  }
 ],
 "metadata": {
  "interpreter": {
   "hash": "551c62dc04900b7c9656b03a0ed1114515bcd045db0a145f14557b857526032b"
  },
  "kernelspec": {
   "display_name": "Python 3.8.10 ('base')",
   "language": "python",
   "name": "python3"
  },
  "language_info": {
   "codemirror_mode": {
    "name": "ipython",
    "version": 3
   },
   "file_extension": ".py",
   "mimetype": "text/x-python",
   "name": "python",
   "nbconvert_exporter": "python",
   "pygments_lexer": "ipython3",
   "version": "3.8.10"
  },
  "orig_nbformat": 4
 },
 "nbformat": 4,
 "nbformat_minor": 2
}
