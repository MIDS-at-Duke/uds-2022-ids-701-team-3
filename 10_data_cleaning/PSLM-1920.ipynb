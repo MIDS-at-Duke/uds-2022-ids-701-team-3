{
 "cells": [
  {
   "cell_type": "markdown",
   "metadata": {},
   "source": [
    "## Cleaning file for 2019-2020"
   ]
  },
  {
   "cell_type": "code",
   "execution_count": 191,
   "metadata": {},
   "outputs": [],
   "source": [
    "import pandas as pd\n",
    "import numpy as np"
   ]
  },
  {
   "cell_type": "code",
   "execution_count": 192,
   "metadata": {},
   "outputs": [
    {
     "data": {
      "text/html": [
       "<div>\n",
       "<style scoped>\n",
       "    .dataframe tbody tr th:only-of-type {\n",
       "        vertical-align: middle;\n",
       "    }\n",
       "\n",
       "    .dataframe tbody tr th {\n",
       "        vertical-align: top;\n",
       "    }\n",
       "\n",
       "    .dataframe thead th {\n",
       "        text-align: right;\n",
       "    }\n",
       "</style>\n",
       "<table border=\"1\" class=\"dataframe\">\n",
       "  <thead>\n",
       "    <tr style=\"text-align: right;\">\n",
       "      <th></th>\n",
       "      <th>hhcode</th>\n",
       "      <th>psu</th>\n",
       "      <th>province</th>\n",
       "      <th>region</th>\n",
       "      <th>district</th>\n",
       "      <th>idc</th>\n",
       "      <th>sb1q2</th>\n",
       "      <th>sb1q3</th>\n",
       "      <th>sb1q4</th>\n",
       "      <th>sb1q5</th>\n",
       "      <th>age</th>\n",
       "      <th>sb1q62</th>\n",
       "      <th>sb1q63</th>\n",
       "      <th>sb1q64</th>\n",
       "      <th>sb1q7</th>\n",
       "      <th>sb1q8</th>\n",
       "      <th>sb1q9</th>\n",
       "      <th>sb1q10</th>\n",
       "      <th>sb1q11</th>\n",
       "    </tr>\n",
       "  </thead>\n",
       "  <tbody>\n",
       "    <tr>\n",
       "      <th>0</th>\n",
       "      <td>101100101</td>\n",
       "      <td>1011001</td>\n",
       "      <td>khyber pakhtunkhwa</td>\n",
       "      <td>rural</td>\n",
       "      <td>abbottabad</td>\n",
       "      <td>1</td>\n",
       "      <td>head</td>\n",
       "      <td>NaN</td>\n",
       "      <td>male</td>\n",
       "      <td>present</td>\n",
       "      <td>58</td>\n",
       "      <td>0</td>\n",
       "      <td>0</td>\n",
       "      <td>1961.0</td>\n",
       "      <td>currently married</td>\n",
       "      <td>2.0</td>\n",
       "      <td>98.0</td>\n",
       "      <td>99.0</td>\n",
       "      <td>yes</td>\n",
       "    </tr>\n",
       "    <tr>\n",
       "      <th>1</th>\n",
       "      <td>101100102</td>\n",
       "      <td>1011001</td>\n",
       "      <td>khyber pakhtunkhwa</td>\n",
       "      <td>rural</td>\n",
       "      <td>abbottabad</td>\n",
       "      <td>1</td>\n",
       "      <td>head</td>\n",
       "      <td>NaN</td>\n",
       "      <td>male</td>\n",
       "      <td>present</td>\n",
       "      <td>64</td>\n",
       "      <td>0</td>\n",
       "      <td>0</td>\n",
       "      <td>1955.0</td>\n",
       "      <td>currently married</td>\n",
       "      <td>2.0</td>\n",
       "      <td>98.0</td>\n",
       "      <td>10.0</td>\n",
       "      <td>yes</td>\n",
       "    </tr>\n",
       "    <tr>\n",
       "      <th>2</th>\n",
       "      <td>101100103</td>\n",
       "      <td>1011001</td>\n",
       "      <td>khyber pakhtunkhwa</td>\n",
       "      <td>rural</td>\n",
       "      <td>abbottabad</td>\n",
       "      <td>1</td>\n",
       "      <td>head</td>\n",
       "      <td>NaN</td>\n",
       "      <td>male</td>\n",
       "      <td>present</td>\n",
       "      <td>35</td>\n",
       "      <td>0</td>\n",
       "      <td>0</td>\n",
       "      <td>1984.0</td>\n",
       "      <td>currently married</td>\n",
       "      <td>2.0</td>\n",
       "      <td>98.0</td>\n",
       "      <td>99.0</td>\n",
       "      <td>yes</td>\n",
       "    </tr>\n",
       "    <tr>\n",
       "      <th>3</th>\n",
       "      <td>101100104</td>\n",
       "      <td>1011001</td>\n",
       "      <td>khyber pakhtunkhwa</td>\n",
       "      <td>rural</td>\n",
       "      <td>abbottabad</td>\n",
       "      <td>1</td>\n",
       "      <td>head</td>\n",
       "      <td>NaN</td>\n",
       "      <td>male</td>\n",
       "      <td>present</td>\n",
       "      <td>56</td>\n",
       "      <td>0</td>\n",
       "      <td>0</td>\n",
       "      <td>1963.0</td>\n",
       "      <td>currently married</td>\n",
       "      <td>2.0</td>\n",
       "      <td>98.0</td>\n",
       "      <td>99.0</td>\n",
       "      <td>yes</td>\n",
       "    </tr>\n",
       "    <tr>\n",
       "      <th>4</th>\n",
       "      <td>101100105</td>\n",
       "      <td>1011001</td>\n",
       "      <td>khyber pakhtunkhwa</td>\n",
       "      <td>rural</td>\n",
       "      <td>abbottabad</td>\n",
       "      <td>1</td>\n",
       "      <td>head</td>\n",
       "      <td>NaN</td>\n",
       "      <td>male</td>\n",
       "      <td>present</td>\n",
       "      <td>50</td>\n",
       "      <td>0</td>\n",
       "      <td>0</td>\n",
       "      <td>1969.0</td>\n",
       "      <td>currently married</td>\n",
       "      <td>2.0</td>\n",
       "      <td>98.0</td>\n",
       "      <td>98.0</td>\n",
       "      <td>yes</td>\n",
       "    </tr>\n",
       "  </tbody>\n",
       "</table>\n",
       "</div>"
      ],
      "text/plain": [
       "      hhcode      psu            province region    district  idc sb1q2 sb1q3  \\\n",
       "0  101100101  1011001  khyber pakhtunkhwa  rural  abbottabad    1  head   NaN   \n",
       "1  101100102  1011001  khyber pakhtunkhwa  rural  abbottabad    1  head   NaN   \n",
       "2  101100103  1011001  khyber pakhtunkhwa  rural  abbottabad    1  head   NaN   \n",
       "3  101100104  1011001  khyber pakhtunkhwa  rural  abbottabad    1  head   NaN   \n",
       "4  101100105  1011001  khyber pakhtunkhwa  rural  abbottabad    1  head   NaN   \n",
       "\n",
       "  sb1q4    sb1q5  age  sb1q62  sb1q63  sb1q64              sb1q7  sb1q8  \\\n",
       "0  male  present   58       0       0  1961.0  currently married    2.0   \n",
       "1  male  present   64       0       0  1955.0  currently married    2.0   \n",
       "2  male  present   35       0       0  1984.0  currently married    2.0   \n",
       "3  male  present   56       0       0  1963.0  currently married    2.0   \n",
       "4  male  present   50       0       0  1969.0  currently married    2.0   \n",
       "\n",
       "   sb1q9  sb1q10 sb1q11  \n",
       "0   98.0    99.0    yes  \n",
       "1   98.0    10.0    yes  \n",
       "2   98.0    99.0    yes  \n",
       "3   98.0    99.0    yes  \n",
       "4   98.0    98.0    yes  "
      ]
     },
     "execution_count": 192,
     "metadata": {},
     "output_type": "execute_result"
    }
   ],
   "source": [
    "roster_data_1920 = pd.read_stata('/Users/preetkhowaja/Documents/midssp2022/unifying/uds-2022-ids-701-team-3/00_source_data/1920_roster.dta')\n",
    "roster_data_1920.head()"
   ]
  },
  {
   "cell_type": "code",
   "execution_count": 193,
   "metadata": {},
   "outputs": [
    {
     "data": {
      "text/html": [
       "<div>\n",
       "<style scoped>\n",
       "    .dataframe tbody tr th:only-of-type {\n",
       "        vertical-align: middle;\n",
       "    }\n",
       "\n",
       "    .dataframe tbody tr th {\n",
       "        vertical-align: top;\n",
       "    }\n",
       "\n",
       "    .dataframe thead th {\n",
       "        text-align: right;\n",
       "    }\n",
       "</style>\n",
       "<table border=\"1\" class=\"dataframe\">\n",
       "  <thead>\n",
       "    <tr style=\"text-align: right;\">\n",
       "      <th></th>\n",
       "      <th>hhcode</th>\n",
       "      <th>psu</th>\n",
       "      <th>province</th>\n",
       "      <th>region</th>\n",
       "      <th>district</th>\n",
       "      <th>idc</th>\n",
       "      <th>sb1q2</th>\n",
       "      <th>sb1q3</th>\n",
       "      <th>sb1q4</th>\n",
       "      <th>sb1q5</th>\n",
       "      <th>...</th>\n",
       "      <th>sb1q62</th>\n",
       "      <th>sb1q63</th>\n",
       "      <th>sb1q64</th>\n",
       "      <th>sb1q7</th>\n",
       "      <th>sb1q8</th>\n",
       "      <th>sb1q9</th>\n",
       "      <th>sb1q10</th>\n",
       "      <th>sb1q11</th>\n",
       "      <th>sex</th>\n",
       "      <th>marital_status</th>\n",
       "    </tr>\n",
       "  </thead>\n",
       "  <tbody>\n",
       "    <tr>\n",
       "      <th>311443</th>\n",
       "      <td>418100718</td>\n",
       "      <td>4181007</td>\n",
       "      <td>balochistan</td>\n",
       "      <td>rural</td>\n",
       "      <td>mastung</td>\n",
       "      <td>2</td>\n",
       "      <td>spouse</td>\n",
       "      <td>main economic provider</td>\n",
       "      <td>female</td>\n",
       "      <td>present</td>\n",
       "      <td>...</td>\n",
       "      <td>0</td>\n",
       "      <td>0</td>\n",
       "      <td>1964.0</td>\n",
       "      <td>currently married</td>\n",
       "      <td>1.0</td>\n",
       "      <td>98.0</td>\n",
       "      <td>99.0</td>\n",
       "      <td>yes</td>\n",
       "      <td>female</td>\n",
       "      <td>currently married</td>\n",
       "    </tr>\n",
       "    <tr>\n",
       "      <th>379849</th>\n",
       "      <td>218207521</td>\n",
       "      <td>2182075</td>\n",
       "      <td>punjab</td>\n",
       "      <td>urban</td>\n",
       "      <td>lahore</td>\n",
       "      <td>3</td>\n",
       "      <td>son/daughter</td>\n",
       "      <td>main economic provider</td>\n",
       "      <td>male</td>\n",
       "      <td>present</td>\n",
       "      <td>...</td>\n",
       "      <td>11</td>\n",
       "      <td>8</td>\n",
       "      <td>2009.0</td>\n",
       "      <td>unmarried / never married</td>\n",
       "      <td>NaN</td>\n",
       "      <td>1.0</td>\n",
       "      <td>2.0</td>\n",
       "      <td>yes</td>\n",
       "      <td>male</td>\n",
       "      <td>unmarried / never married</td>\n",
       "    </tr>\n",
       "    <tr>\n",
       "      <th>783867</th>\n",
       "      <td>224101801</td>\n",
       "      <td>2241018</td>\n",
       "      <td>punjab</td>\n",
       "      <td>rural</td>\n",
       "      <td>muzaffar garh</td>\n",
       "      <td>7</td>\n",
       "      <td>father/mother</td>\n",
       "      <td>main economic provider</td>\n",
       "      <td>female</td>\n",
       "      <td>present</td>\n",
       "      <td>...</td>\n",
       "      <td>0</td>\n",
       "      <td>0</td>\n",
       "      <td>1964.0</td>\n",
       "      <td>currently married</td>\n",
       "      <td>6.0</td>\n",
       "      <td>98.0</td>\n",
       "      <td>98.0</td>\n",
       "      <td>yes</td>\n",
       "      <td>female</td>\n",
       "      <td>currently married</td>\n",
       "    </tr>\n",
       "    <tr>\n",
       "      <th>645184</th>\n",
       "      <td>226101801</td>\n",
       "      <td>2261018</td>\n",
       "      <td>punjab</td>\n",
       "      <td>rural</td>\n",
       "      <td>narowal</td>\n",
       "      <td>5</td>\n",
       "      <td>son/daughter in law</td>\n",
       "      <td>main economic provider</td>\n",
       "      <td>female</td>\n",
       "      <td>present</td>\n",
       "      <td>...</td>\n",
       "      <td>0</td>\n",
       "      <td>0</td>\n",
       "      <td>1997.0</td>\n",
       "      <td>currently married</td>\n",
       "      <td>99.0</td>\n",
       "      <td>98.0</td>\n",
       "      <td>99.0</td>\n",
       "      <td>yes</td>\n",
       "      <td>female</td>\n",
       "      <td>currently married</td>\n",
       "    </tr>\n",
       "  </tbody>\n",
       "</table>\n",
       "<p>4 rows × 21 columns</p>\n",
       "</div>"
      ],
      "text/plain": [
       "           hhcode      psu     province region       district  idc  \\\n",
       "311443  418100718  4181007  balochistan  rural        mastung    2   \n",
       "379849  218207521  2182075       punjab  urban         lahore    3   \n",
       "783867  224101801  2241018       punjab  rural  muzaffar garh    7   \n",
       "645184  226101801  2261018       punjab  rural        narowal    5   \n",
       "\n",
       "                      sb1q2                   sb1q3   sb1q4    sb1q5  ...  \\\n",
       "311443               spouse  main economic provider  female  present  ...   \n",
       "379849         son/daughter  main economic provider    male  present  ...   \n",
       "783867        father/mother  main economic provider  female  present  ...   \n",
       "645184  son/daughter in law  main economic provider  female  present  ...   \n",
       "\n",
       "        sb1q62  sb1q63  sb1q64                      sb1q7 sb1q8  sb1q9  \\\n",
       "311443       0       0  1964.0          currently married   1.0   98.0   \n",
       "379849      11       8  2009.0  unmarried / never married   NaN    1.0   \n",
       "783867       0       0  1964.0          currently married   6.0   98.0   \n",
       "645184       0       0  1997.0          currently married  99.0   98.0   \n",
       "\n",
       "        sb1q10  sb1q11     sex             marital_status  \n",
       "311443    99.0     yes  female          currently married  \n",
       "379849     2.0     yes    male  unmarried / never married  \n",
       "783867    98.0     yes  female          currently married  \n",
       "645184    99.0     yes  female          currently married  \n",
       "\n",
       "[4 rows x 21 columns]"
      ]
     },
     "execution_count": 193,
     "metadata": {},
     "output_type": "execute_result"
    }
   ],
   "source": [
    "# renaming relevant variables from roster\n",
    "roster_data_1920['sex'] = roster_data_1920['sb1q4']\n",
    "roster_data_1920['marital_status'] = roster_data_1920['sb1q7']\n",
    "roster_data_1920.sample(4)"
   ]
  },
  {
   "cell_type": "code",
   "execution_count": 194,
   "metadata": {},
   "outputs": [
    {
     "data": {
      "text/html": [
       "<div>\n",
       "<style scoped>\n",
       "    .dataframe tbody tr th:only-of-type {\n",
       "        vertical-align: middle;\n",
       "    }\n",
       "\n",
       "    .dataframe tbody tr th {\n",
       "        vertical-align: top;\n",
       "    }\n",
       "\n",
       "    .dataframe thead th {\n",
       "        text-align: right;\n",
       "    }\n",
       "</style>\n",
       "<table border=\"1\" class=\"dataframe\">\n",
       "  <thead>\n",
       "    <tr style=\"text-align: right;\">\n",
       "      <th></th>\n",
       "      <th>hhcode</th>\n",
       "      <th>idc</th>\n",
       "      <th>age</th>\n",
       "      <th>sex</th>\n",
       "      <th>marital_status</th>\n",
       "    </tr>\n",
       "  </thead>\n",
       "  <tbody>\n",
       "    <tr>\n",
       "      <th>791143</th>\n",
       "      <td>236101509</td>\n",
       "      <td>7</td>\n",
       "      <td>3</td>\n",
       "      <td>male</td>\n",
       "      <td>unmarried / never married</td>\n",
       "    </tr>\n",
       "    <tr>\n",
       "      <th>555249</th>\n",
       "      <td>304204512</td>\n",
       "      <td>4</td>\n",
       "      <td>15</td>\n",
       "      <td>female</td>\n",
       "      <td>unmarried / never married</td>\n",
       "    </tr>\n",
       "    <tr>\n",
       "      <th>448428</th>\n",
       "      <td>327102609</td>\n",
       "      <td>3</td>\n",
       "      <td>15</td>\n",
       "      <td>female</td>\n",
       "      <td>unmarried / never married</td>\n",
       "    </tr>\n",
       "    <tr>\n",
       "      <th>101234</th>\n",
       "      <td>234102623</td>\n",
       "      <td>1</td>\n",
       "      <td>70</td>\n",
       "      <td>male</td>\n",
       "      <td>currently married</td>\n",
       "    </tr>\n",
       "    <tr>\n",
       "      <th>305130</th>\n",
       "      <td>404200228</td>\n",
       "      <td>2</td>\n",
       "      <td>37</td>\n",
       "      <td>female</td>\n",
       "      <td>currently married</td>\n",
       "    </tr>\n",
       "  </tbody>\n",
       "</table>\n",
       "</div>"
      ],
      "text/plain": [
       "           hhcode  idc  age     sex             marital_status\n",
       "791143  236101509    7    3    male  unmarried / never married\n",
       "555249  304204512    4   15  female  unmarried / never married\n",
       "448428  327102609    3   15  female  unmarried / never married\n",
       "101234  234102623    1   70    male          currently married\n",
       "305130  404200228    2   37  female          currently married"
      ]
     },
     "execution_count": 194,
     "metadata": {},
     "output_type": "execute_result"
    }
   ],
   "source": [
    "B_relevant = roster_data_1920[['hhcode', 'idc','age', 'sex', 'marital_status']].copy()\n",
    "B_relevant.sample(5)"
   ]
  },
  {
   "cell_type": "code",
   "execution_count": 195,
   "metadata": {},
   "outputs": [
    {
     "data": {
      "text/plain": [
       "Index(['hhcode', 'psu', 'province', 'region', 'idc', 'district', 'sc1q1a',\n",
       "       'sc1q2a', 'sc1q3a', 'sc1q4a', 'sc1q01', 'sc1q02', 'sc1q03', 'sc1q04',\n",
       "       'sc1q05', 'sc1q06', 'sc1q07', 'sc1q08', 'sc1q09', 'sc1q10', 'sc1q11',\n",
       "       'sc1q12', 'sc1q13', 'sc1q14', 'sc1q15', 'sc1q16', 'sc1q17', 'sc1q18',\n",
       "       'sc1q19a', 'sc1q19b', 'sc1q19c', 'sc1q19d', 'sc1q19e', 'sc1q19f',\n",
       "       'sc1q19g', 'sc1q19h', 'sc1q19i'],\n",
       "      dtype='object')"
      ]
     },
     "execution_count": 195,
     "metadata": {},
     "output_type": "execute_result"
    }
   ],
   "source": [
    "educ_data = pd.read_stata('/Users/preetkhowaja/Documents/midssp2022/unifying/uds-2022-ids-701-team-3/00_source_data/1920_secc1.dta',\n",
    "convert_categoricals=False)\n",
    "educ_data.columns"
   ]
  },
  {
   "cell_type": "code",
   "execution_count": 196,
   "metadata": {},
   "outputs": [
    {
     "data": {
      "text/plain": [
       "1    355074\n",
       "2    244505\n",
       "3    214697\n",
       "Name: sc1q01, dtype: int64"
      ]
     },
     "execution_count": 196,
     "metadata": {},
     "output_type": "execute_result"
    }
   ],
   "source": [
    "educ_data.sc1q01.value_counts()"
   ]
  },
  {
   "cell_type": "code",
   "execution_count": 197,
   "metadata": {},
   "outputs": [
    {
     "data": {
      "text/plain": [
       "no     599579\n",
       "yes    214697\n",
       "Name: currently_enrolled, dtype: int64"
      ]
     },
     "execution_count": 197,
     "metadata": {},
     "output_type": "execute_result"
    }
   ],
   "source": [
    "# Create variable for ever_admitted and currently attending\n",
    "educ_data['ever_admitted'] = np.where(educ_data.sc1q01 == 1, 'no', 'yes')\n",
    "educ_data.ever_admitted.value_counts()\n",
    "educ_data['currently_enrolled'] = np.where(educ_data.sc1q01 == 3, 'yes', 'no')\n",
    "educ_data.currently_enrolled.value_counts()"
   ]
  },
  {
   "cell_type": "code",
   "execution_count": 198,
   "metadata": {},
   "outputs": [
    {
     "data": {
      "text/html": [
       "<div>\n",
       "<style scoped>\n",
       "    .dataframe tbody tr th:only-of-type {\n",
       "        vertical-align: middle;\n",
       "    }\n",
       "\n",
       "    .dataframe tbody tr th {\n",
       "        vertical-align: top;\n",
       "    }\n",
       "\n",
       "    .dataframe thead th {\n",
       "        text-align: right;\n",
       "    }\n",
       "</style>\n",
       "<table border=\"1\" class=\"dataframe\">\n",
       "  <thead>\n",
       "    <tr style=\"text-align: right;\">\n",
       "      <th></th>\n",
       "      <th>hhcode</th>\n",
       "      <th>idc</th>\n",
       "      <th>ever_admitted</th>\n",
       "      <th>currently_enrolled</th>\n",
       "      <th>region</th>\n",
       "      <th>province</th>\n",
       "    </tr>\n",
       "  </thead>\n",
       "  <tbody>\n",
       "    <tr>\n",
       "      <th>90561</th>\n",
       "      <td>118101228</td>\n",
       "      <td>6</td>\n",
       "      <td>yes</td>\n",
       "      <td>yes</td>\n",
       "      <td>1</td>\n",
       "      <td>1</td>\n",
       "    </tr>\n",
       "    <tr>\n",
       "      <th>570335</th>\n",
       "      <td>301102007</td>\n",
       "      <td>4</td>\n",
       "      <td>no</td>\n",
       "      <td>no</td>\n",
       "      <td>1</td>\n",
       "      <td>3</td>\n",
       "    </tr>\n",
       "    <tr>\n",
       "      <th>379715</th>\n",
       "      <td>219101004</td>\n",
       "      <td>1</td>\n",
       "      <td>yes</td>\n",
       "      <td>no</td>\n",
       "      <td>1</td>\n",
       "      <td>2</td>\n",
       "    </tr>\n",
       "    <tr>\n",
       "      <th>412531</th>\n",
       "      <td>223201420</td>\n",
       "      <td>1</td>\n",
       "      <td>yes</td>\n",
       "      <td>no</td>\n",
       "      <td>2</td>\n",
       "      <td>2</td>\n",
       "    </tr>\n",
       "    <tr>\n",
       "      <th>514199</th>\n",
       "      <td>232201113</td>\n",
       "      <td>2</td>\n",
       "      <td>no</td>\n",
       "      <td>no</td>\n",
       "      <td>2</td>\n",
       "      <td>2</td>\n",
       "    </tr>\n",
       "  </tbody>\n",
       "</table>\n",
       "</div>"
      ],
      "text/plain": [
       "           hhcode  idc ever_admitted currently_enrolled  region  province\n",
       "90561   118101228    6           yes                yes       1         1\n",
       "570335  301102007    4            no                 no       1         3\n",
       "379715  219101004    1           yes                 no       1         2\n",
       "412531  223201420    1           yes                 no       2         2\n",
       "514199  232201113    2            no                 no       2         2"
      ]
     },
     "execution_count": 198,
     "metadata": {},
     "output_type": "execute_result"
    }
   ],
   "source": [
    "C_relevant = educ_data[\n",
    "    [\n",
    "        \"hhcode\",\n",
    "        \"idc\",\n",
    "        \"ever_admitted\",\n",
    "        \"currently_enrolled\",\n",
    "        \"region\",\n",
    "        \"province\"\n",
    "    ]\n",
    "].copy()\n",
    "\n",
    "C_relevant.sample(5)"
   ]
  },
  {
   "cell_type": "code",
   "execution_count": 199,
   "metadata": {},
   "outputs": [
    {
     "data": {
      "text/plain": [
       "no     599579\n",
       "yes    214697\n",
       "Name: currently_enrolled, dtype: int64"
      ]
     },
     "execution_count": 199,
     "metadata": {},
     "output_type": "execute_result"
    }
   ],
   "source": [
    "# MERGE \n",
    "years19_20 = pd.merge(B_relevant, C_relevant, on=[\"hhcode\", 'idc'], how='inner', indicator=False)\n",
    "# Evaluate merge by checking value counts for currently enrolled individuals\n",
    "years19_20.currently_enrolled.value_counts()"
   ]
  },
  {
   "cell_type": "code",
   "execution_count": 200,
   "metadata": {},
   "outputs": [],
   "source": [
    "# Select people in school enrollment age (I would say 4-10 years old)\n",
    "years19_20 = years19_20.loc[(years19_20[\"age\"] >= 4)&(years19_20[\"age\"] <= 15)]\n"
   ]
  },
  {
   "cell_type": "code",
   "execution_count": 201,
   "metadata": {},
   "outputs": [
    {
     "data": {
      "text/plain": [
       "2    128456\n",
       "1     65030\n",
       "3     57372\n",
       "4     30042\n",
       "Name: province, dtype: int64"
      ]
     },
     "execution_count": 201,
     "metadata": {},
     "output_type": "execute_result"
    }
   ],
   "source": [
    "years19_20.province.value_counts()"
   ]
  },
  {
   "cell_type": "code",
   "execution_count": 202,
   "metadata": {},
   "outputs": [
    {
     "data": {
      "text/plain": [
       "Punjab         128456\n",
       "KPK             65030\n",
       "Sindh           57372\n",
       "Balochistan     30042\n",
       "Name: province, dtype: int64"
      ]
     },
     "execution_count": 202,
     "metadata": {},
     "output_type": "execute_result"
    }
   ],
   "source": [
    "# Re-spell the names\n",
    "years19_20['province'].replace(2, 'Punjab', inplace = True)\n",
    "years19_20['province'].replace(1, 'KPK', inplace = True)\n",
    "years19_20['province'].replace(3, 'Sindh', inplace = True)\n",
    "years19_20['province'].replace(4, 'Balochistan', inplace = True)\n",
    "years19_20.province.value_counts()"
   ]
  },
  {
   "cell_type": "code",
   "execution_count": 203,
   "metadata": {},
   "outputs": [
    {
     "data": {
      "text/html": [
       "<div>\n",
       "<style scoped>\n",
       "    .dataframe tbody tr th:only-of-type {\n",
       "        vertical-align: middle;\n",
       "    }\n",
       "\n",
       "    .dataframe tbody tr th {\n",
       "        vertical-align: top;\n",
       "    }\n",
       "\n",
       "    .dataframe thead th {\n",
       "        text-align: right;\n",
       "    }\n",
       "</style>\n",
       "<table border=\"1\" class=\"dataframe\">\n",
       "  <thead>\n",
       "    <tr style=\"text-align: right;\">\n",
       "      <th></th>\n",
       "      <th>hhcode</th>\n",
       "      <th>idc</th>\n",
       "      <th>age</th>\n",
       "      <th>sex</th>\n",
       "      <th>marital_status</th>\n",
       "      <th>ever_admitted</th>\n",
       "      <th>currently_enrolled</th>\n",
       "      <th>region</th>\n",
       "      <th>province</th>\n",
       "      <th>subprovince code</th>\n",
       "    </tr>\n",
       "  </thead>\n",
       "  <tbody>\n",
       "    <tr>\n",
       "      <th>7204</th>\n",
       "      <td>109100622</td>\n",
       "      <td>1</td>\n",
       "      <td>15</td>\n",
       "      <td>male</td>\n",
       "      <td>unmarried / never married</td>\n",
       "      <td>yes</td>\n",
       "      <td>yes</td>\n",
       "      <td>1</td>\n",
       "      <td>KPK</td>\n",
       "      <td>1091</td>\n",
       "    </tr>\n",
       "    <tr>\n",
       "      <th>12381</th>\n",
       "      <td>115100530</td>\n",
       "      <td>1</td>\n",
       "      <td>15</td>\n",
       "      <td>male</td>\n",
       "      <td>unmarried / never married</td>\n",
       "      <td>yes</td>\n",
       "      <td>yes</td>\n",
       "      <td>1</td>\n",
       "      <td>KPK</td>\n",
       "      <td>1151</td>\n",
       "    </tr>\n",
       "    <tr>\n",
       "      <th>17584</th>\n",
       "      <td>120104015</td>\n",
       "      <td>1</td>\n",
       "      <td>15</td>\n",
       "      <td>female</td>\n",
       "      <td>unmarried / never married</td>\n",
       "      <td>yes</td>\n",
       "      <td>no</td>\n",
       "      <td>1</td>\n",
       "      <td>KPK</td>\n",
       "      <td>1201</td>\n",
       "    </tr>\n",
       "    <tr>\n",
       "      <th>29290</th>\n",
       "      <td>201102822</td>\n",
       "      <td>1</td>\n",
       "      <td>15</td>\n",
       "      <td>male</td>\n",
       "      <td>unmarried / never married</td>\n",
       "      <td>yes</td>\n",
       "      <td>yes</td>\n",
       "      <td>1</td>\n",
       "      <td>Punjab</td>\n",
       "      <td>2011</td>\n",
       "    </tr>\n",
       "    <tr>\n",
       "      <th>30235</th>\n",
       "      <td>202100124</td>\n",
       "      <td>1</td>\n",
       "      <td>10</td>\n",
       "      <td>female</td>\n",
       "      <td>unmarried / never married</td>\n",
       "      <td>yes</td>\n",
       "      <td>yes</td>\n",
       "      <td>1</td>\n",
       "      <td>Punjab</td>\n",
       "      <td>2021</td>\n",
       "    </tr>\n",
       "  </tbody>\n",
       "</table>\n",
       "</div>"
      ],
      "text/plain": [
       "          hhcode  idc  age     sex             marital_status ever_admitted  \\\n",
       "7204   109100622    1   15    male  unmarried / never married           yes   \n",
       "12381  115100530    1   15    male  unmarried / never married           yes   \n",
       "17584  120104015    1   15  female  unmarried / never married           yes   \n",
       "29290  201102822    1   15    male  unmarried / never married           yes   \n",
       "30235  202100124    1   10  female  unmarried / never married           yes   \n",
       "\n",
       "      currently_enrolled  region province  subprovince code  \n",
       "7204                 yes       1      KPK              1091  \n",
       "12381                yes       1      KPK              1151  \n",
       "17584                 no       1      KPK              1201  \n",
       "29290                yes       1   Punjab              2011  \n",
       "30235                yes       1   Punjab              2021  "
      ]
     },
     "execution_count": 203,
     "metadata": {},
     "output_type": "execute_result"
    }
   ],
   "source": [
    "# Lets see which hh codes we have:\n",
    "years19_20[\"hhcode\"] = years19_20[\"hhcode\"].astype(\"str\")\n",
    "years19_20['subprovince code']= years19_20['hhcode'].apply(lambda x: x[0:4])\n",
    "years19_20[\"subprovince code\"] = years19_20[\"subprovince code\"].astype(\"int\")\n",
    "years19_20.head()"
   ]
  },
  {
   "cell_type": "code",
   "execution_count": 204,
   "metadata": {},
   "outputs": [
    {
     "data": {
      "text/html": [
       "<div>\n",
       "<style scoped>\n",
       "    .dataframe tbody tr th:only-of-type {\n",
       "        vertical-align: middle;\n",
       "    }\n",
       "\n",
       "    .dataframe tbody tr th {\n",
       "        vertical-align: top;\n",
       "    }\n",
       "\n",
       "    .dataframe thead th {\n",
       "        text-align: right;\n",
       "    }\n",
       "</style>\n",
       "<table border=\"1\" class=\"dataframe\">\n",
       "  <thead>\n",
       "    <tr style=\"text-align: right;\">\n",
       "      <th></th>\n",
       "      <th>subprovince</th>\n",
       "      <th>subprovince code</th>\n",
       "    </tr>\n",
       "  </thead>\n",
       "  <tbody>\n",
       "    <tr>\n",
       "      <th>109</th>\n",
       "      <td>Kech/Turbat</td>\n",
       "      <td>4122</td>\n",
       "    </tr>\n",
       "    <tr>\n",
       "      <th>253</th>\n",
       "      <td>Duki</td>\n",
       "      <td>4051</td>\n",
       "    </tr>\n",
       "  </tbody>\n",
       "</table>\n",
       "</div>"
      ],
      "text/plain": [
       "     subprovince  subprovince code\n",
       "109  Kech/Turbat              4122\n",
       "253         Duki              4051"
      ]
     },
     "execution_count": 204,
     "metadata": {},
     "output_type": "execute_result"
    }
   ],
   "source": [
    "# Add stratum data\n",
    "stratum_1920 = pd.read_csv('/Users/preetkhowaja/Documents/midssp2022/unifying/uds-2022-ids-701-team-3/00_source_data/stratum1920.csv')\n",
    "stratum_1920.sample(2)"
   ]
  },
  {
   "cell_type": "code",
   "execution_count": 205,
   "metadata": {},
   "outputs": [
    {
     "data": {
      "text/plain": [
       "both          280900\n",
       "left_only          0\n",
       "right_only         0\n",
       "Name: _merge, dtype: int64"
      ]
     },
     "execution_count": 205,
     "metadata": {},
     "output_type": "execute_result"
    }
   ],
   "source": [
    "# Merge stratum data with edu and sex data\n",
    "years19_20_ = pd.merge(years19_20, stratum_1920, on=[\"subprovince code\"], how='inner', indicator=True)\n",
    "\n",
    "# Evaluate merge \n",
    "years19_20_._merge.value_counts()"
   ]
  },
  {
   "cell_type": "code",
   "execution_count": 206,
   "metadata": {},
   "outputs": [
    {
     "data": {
      "text/html": [
       "<div>\n",
       "<style scoped>\n",
       "    .dataframe tbody tr th:only-of-type {\n",
       "        vertical-align: middle;\n",
       "    }\n",
       "\n",
       "    .dataframe tbody tr th {\n",
       "        vertical-align: top;\n",
       "    }\n",
       "\n",
       "    .dataframe thead th {\n",
       "        text-align: right;\n",
       "    }\n",
       "</style>\n",
       "<table border=\"1\" class=\"dataframe\">\n",
       "  <thead>\n",
       "    <tr style=\"text-align: right;\">\n",
       "      <th></th>\n",
       "      <th>hhcode</th>\n",
       "      <th>idc</th>\n",
       "      <th>age</th>\n",
       "      <th>sex</th>\n",
       "      <th>marital_status</th>\n",
       "      <th>ever_admitted</th>\n",
       "      <th>currently_enrolled</th>\n",
       "      <th>region</th>\n",
       "      <th>province</th>\n",
       "      <th>subprovince code</th>\n",
       "      <th>subprovince</th>\n",
       "    </tr>\n",
       "  </thead>\n",
       "  <tbody>\n",
       "    <tr>\n",
       "      <th>0</th>\n",
       "      <td>109100622</td>\n",
       "      <td>1</td>\n",
       "      <td>15</td>\n",
       "      <td>male</td>\n",
       "      <td>unmarried / never married</td>\n",
       "      <td>yes</td>\n",
       "      <td>yes</td>\n",
       "      <td>1</td>\n",
       "      <td>KPK</td>\n",
       "      <td>1091</td>\n",
       "      <td>Hangu</td>\n",
       "    </tr>\n",
       "    <tr>\n",
       "      <th>1</th>\n",
       "      <td>109100106</td>\n",
       "      <td>2</td>\n",
       "      <td>14</td>\n",
       "      <td>male</td>\n",
       "      <td>unmarried / never married</td>\n",
       "      <td>yes</td>\n",
       "      <td>yes</td>\n",
       "      <td>1</td>\n",
       "      <td>KPK</td>\n",
       "      <td>1091</td>\n",
       "      <td>Hangu</td>\n",
       "    </tr>\n",
       "    <tr>\n",
       "      <th>2</th>\n",
       "      <td>109100118</td>\n",
       "      <td>2</td>\n",
       "      <td>6</td>\n",
       "      <td>female</td>\n",
       "      <td>unmarried / never married</td>\n",
       "      <td>yes</td>\n",
       "      <td>yes</td>\n",
       "      <td>1</td>\n",
       "      <td>KPK</td>\n",
       "      <td>1091</td>\n",
       "      <td>Hangu</td>\n",
       "    </tr>\n",
       "    <tr>\n",
       "      <th>3</th>\n",
       "      <td>109100122</td>\n",
       "      <td>2</td>\n",
       "      <td>15</td>\n",
       "      <td>male</td>\n",
       "      <td>unmarried / never married</td>\n",
       "      <td>yes</td>\n",
       "      <td>yes</td>\n",
       "      <td>1</td>\n",
       "      <td>KPK</td>\n",
       "      <td>1091</td>\n",
       "      <td>Hangu</td>\n",
       "    </tr>\n",
       "    <tr>\n",
       "      <th>4</th>\n",
       "      <td>109100204</td>\n",
       "      <td>2</td>\n",
       "      <td>10</td>\n",
       "      <td>male</td>\n",
       "      <td>unmarried / never married</td>\n",
       "      <td>yes</td>\n",
       "      <td>yes</td>\n",
       "      <td>1</td>\n",
       "      <td>KPK</td>\n",
       "      <td>1091</td>\n",
       "      <td>Hangu</td>\n",
       "    </tr>\n",
       "  </tbody>\n",
       "</table>\n",
       "</div>"
      ],
      "text/plain": [
       "      hhcode  idc  age     sex             marital_status ever_admitted  \\\n",
       "0  109100622    1   15    male  unmarried / never married           yes   \n",
       "1  109100106    2   14    male  unmarried / never married           yes   \n",
       "2  109100118    2    6  female  unmarried / never married           yes   \n",
       "3  109100122    2   15    male  unmarried / never married           yes   \n",
       "4  109100204    2   10    male  unmarried / never married           yes   \n",
       "\n",
       "  currently_enrolled  region province  subprovince code subprovince  \n",
       "0                yes       1      KPK              1091       Hangu  \n",
       "1                yes       1      KPK              1091       Hangu  \n",
       "2                yes       1      KPK              1091       Hangu  \n",
       "3                yes       1      KPK              1091       Hangu  \n",
       "4                yes       1      KPK              1091       Hangu  "
      ]
     },
     "execution_count": 206,
     "metadata": {},
     "output_type": "execute_result"
    }
   ],
   "source": [
    "years19_20_.drop(columns= ['_merge'], inplace = True)\n",
    "years19_20_.head()"
   ]
  },
  {
   "cell_type": "code",
   "execution_count": 207,
   "metadata": {},
   "outputs": [],
   "source": [
    "# Indicator for year\n",
    "years19_20_['Year'] = 2019\n"
   ]
  },
  {
   "cell_type": "code",
   "execution_count": 208,
   "metadata": {},
   "outputs": [
    {
     "data": {
      "text/plain": [
       "unmarried / never married                         280713\n",
       "nikkah solemnized but rukhsati not taken place        99\n",
       "currently married                                     83\n",
       "separated                                              3\n",
       "divorced                                               2\n",
       "0                                                      0\n",
       "widow / widower                                        0\n",
       "Name: marital_status, dtype: int64"
      ]
     },
     "execution_count": 208,
     "metadata": {},
     "output_type": "execute_result"
    }
   ],
   "source": [
    "years19_20_.marital_status.value_counts()"
   ]
  },
  {
   "cell_type": "code",
   "execution_count": 209,
   "metadata": {},
   "outputs": [
    {
     "data": {
      "text/plain": [
       "1    280713\n",
       "5        99\n",
       "2        83\n",
       "4         5\n",
       "0         0\n",
       "3         0\n",
       "Name: marital_status, dtype: int64"
      ]
     },
     "execution_count": 209,
     "metadata": {},
     "output_type": "execute_result"
    }
   ],
   "source": [
    "# Recode marital status\n",
    "years19_20_.marital_status.replace('unmarried / never married', 1, inplace = True)\n",
    "years19_20_.marital_status.replace('currently married', 2, inplace = True)\n",
    "years19_20_.marital_status.replace('widow / widower', 3, inplace = True)\n",
    "years19_20_.marital_status.replace('separated', 4, inplace = True)\n",
    "years19_20_.marital_status.replace('divorced', 4, inplace = True)\n",
    "years19_20_.marital_status.replace('nikkah solemnized but rukhsati not taken place', 5, inplace = True)\n",
    "years19_20_.marital_status.value_counts()"
   ]
  },
  {
   "cell_type": "code",
   "execution_count": 210,
   "metadata": {},
   "outputs": [
    {
     "data": {
      "text/plain": [
       "1    207443\n",
       "2     73457\n",
       "Name: region, dtype: int64"
      ]
     },
     "execution_count": 210,
     "metadata": {},
     "output_type": "execute_result"
    }
   ],
   "source": [
    "years19_20_.marital_status = years19_20_.marital_status.astype('int')\n",
    "years19_20_.region.value_counts()"
   ]
  },
  {
   "cell_type": "code",
   "execution_count": 211,
   "metadata": {},
   "outputs": [],
   "source": [
    "#Re-code region\n",
    "years19_20_.region.replace(1, 'rural', inplace = True)\n",
    "years19_20_.region.replace(2, 'urban', inplace = True)\n"
   ]
  },
  {
   "cell_type": "code",
   "execution_count": 212,
   "metadata": {},
   "outputs": [
    {
     "data": {
      "text/plain": [
       "hhcode                  object\n",
       "idc                       int8\n",
       "age                      int16\n",
       "sex                   category\n",
       "marital_status           int64\n",
       "ever_admitted           object\n",
       "currently_enrolled      object\n",
       "region                  object\n",
       "province                object\n",
       "subprovince code         int64\n",
       "subprovince             object\n",
       "Year                     int64\n",
       "dtype: object"
      ]
     },
     "execution_count": 212,
     "metadata": {},
     "output_type": "execute_result"
    }
   ],
   "source": [
    "years19_20_.dtypes"
   ]
  },
  {
   "cell_type": "code",
   "execution_count": 213,
   "metadata": {},
   "outputs": [],
   "source": [
    "# Save to csv\n",
    "years19_20_.to_csv('/Users/preetkhowaja/Documents/midssp2022/unifying/uds-2022-ids-701-team-3/10_data_cleaning/clean_preet/years19_20_.csv', index_label='id')"
   ]
  },
  {
   "cell_type": "code",
   "execution_count": 214,
   "metadata": {},
   "outputs": [
    {
     "data": {
      "text/plain": [
       "male      150269\n",
       "female    130631\n",
       "0              0\n",
       "Name: sex, dtype: int64"
      ]
     },
     "execution_count": 214,
     "metadata": {},
     "output_type": "execute_result"
    }
   ],
   "source": [
    "years19_20_.sex.value_counts()"
   ]
  },
  {
   "cell_type": "code",
   "execution_count": 215,
   "metadata": {},
   "outputs": [],
   "source": [
    "years19_20_['sex_new'] = np.where(years19_20_.sex == 'female', 'female', 'male')"
   ]
  },
  {
   "cell_type": "code",
   "execution_count": 216,
   "metadata": {},
   "outputs": [
    {
     "data": {
      "text/plain": [
       "male      150269\n",
       "female    130631\n",
       "Name: sex_new, dtype: int64"
      ]
     },
     "execution_count": 216,
     "metadata": {},
     "output_type": "execute_result"
    }
   ],
   "source": [
    "years19_20_.sex_new.value_counts()"
   ]
  },
  {
   "cell_type": "code",
   "execution_count": 217,
   "metadata": {},
   "outputs": [
    {
     "data": {
      "text/plain": [
       "male      150269\n",
       "female    130631\n",
       "0              0\n",
       "Name: sex, dtype: int64"
      ]
     },
     "execution_count": 217,
     "metadata": {},
     "output_type": "execute_result"
    }
   ],
   "source": [
    "years19_20_.sex.value_counts()"
   ]
  },
  {
   "cell_type": "code",
   "execution_count": 218,
   "metadata": {},
   "outputs": [
    {
     "data": {
      "text/plain": [
       "both          462\n",
       "left_only       0\n",
       "right_only      0\n",
       "Name: _merge, dtype: int64"
      ]
     },
     "execution_count": 218,
     "metadata": {},
     "output_type": "execute_result"
    }
   ],
   "source": [
    "# PRE-PROCESSING FOR DIFF-IN-DIFF DATA\n",
    "# convert currently_enrolled from string to integer\n",
    "years19_20_[\"currently_enrolled\"].replace(\"yes\", 1, inplace=True)\n",
    "years19_20_[\"currently_enrolled\"].replace(\"no\", 0, inplace=True)\n",
    "\n",
    "#check region for anomalies\n",
    "# years19_20_.region.value_counts()\n",
    "# years19_20_[\"region\"].replace(3, \"urban\", inplace=True)\n",
    "# aggregate dataset for sample population\n",
    "df_grp_1 = years19_20_.groupby([\"sex_new\",\"subprovince\",\"region\"])[\"currently_enrolled\"].count().reset_index()\n",
    "# aggregate dataset for enrollment total\n",
    "df_grp_2 = years19_20_.groupby([\"sex_new\",\"subprovince\",\"region\"])[\"currently_enrolled\"].sum().reset_index()\n",
    "# merge data set\n",
    "df_grp_merge = pd.merge(df_grp_1, df_grp_2, on=[\"sex_new\",\"subprovince\",\"region\"], indicator=True)\n",
    "# check merge\n",
    "df_grp_merge._merge.value_counts()"
   ]
  },
  {
   "cell_type": "code",
   "execution_count": 219,
   "metadata": {},
   "outputs": [
    {
     "data": {
      "text/plain": [
       "female    231\n",
       "male      231\n",
       "Name: sex_new, dtype: int64"
      ]
     },
     "execution_count": 219,
     "metadata": {},
     "output_type": "execute_result"
    }
   ],
   "source": [
    "df_grp_merge.sex_new.value_counts()"
   ]
  },
  {
   "cell_type": "code",
   "execution_count": 220,
   "metadata": {},
   "outputs": [
    {
     "data": {
      "text/html": [
       "<div>\n",
       "<style scoped>\n",
       "    .dataframe tbody tr th:only-of-type {\n",
       "        vertical-align: middle;\n",
       "    }\n",
       "\n",
       "    .dataframe tbody tr th {\n",
       "        vertical-align: top;\n",
       "    }\n",
       "\n",
       "    .dataframe thead th {\n",
       "        text-align: right;\n",
       "    }\n",
       "</style>\n",
       "<table border=\"1\" class=\"dataframe\">\n",
       "  <thead>\n",
       "    <tr style=\"text-align: right;\">\n",
       "      <th></th>\n",
       "      <th>sex</th>\n",
       "      <th>subprovince</th>\n",
       "      <th>region</th>\n",
       "      <th>currently_enrolled_x</th>\n",
       "      <th>currently_enrolled_y</th>\n",
       "      <th>_merge</th>\n",
       "    </tr>\n",
       "  </thead>\n",
       "  <tbody>\n",
       "    <tr>\n",
       "      <th>0</th>\n",
       "      <td>female</td>\n",
       "      <td>Abbottabad</td>\n",
       "      <td>rural</td>\n",
       "      <td>619</td>\n",
       "      <td>521</td>\n",
       "      <td>both</td>\n",
       "    </tr>\n",
       "    <tr>\n",
       "      <th>1</th>\n",
       "      <td>female</td>\n",
       "      <td>Abbottabad</td>\n",
       "      <td>urban</td>\n",
       "      <td>82</td>\n",
       "      <td>77</td>\n",
       "      <td>both</td>\n",
       "    </tr>\n",
       "    <tr>\n",
       "      <th>2</th>\n",
       "      <td>female</td>\n",
       "      <td>Attock</td>\n",
       "      <td>rural</td>\n",
       "      <td>763</td>\n",
       "      <td>636</td>\n",
       "      <td>both</td>\n",
       "    </tr>\n",
       "    <tr>\n",
       "      <th>3</th>\n",
       "      <td>female</td>\n",
       "      <td>Attock</td>\n",
       "      <td>urban</td>\n",
       "      <td>225</td>\n",
       "      <td>184</td>\n",
       "      <td>both</td>\n",
       "    </tr>\n",
       "    <tr>\n",
       "      <th>4</th>\n",
       "      <td>female</td>\n",
       "      <td>Awaran</td>\n",
       "      <td>rural</td>\n",
       "      <td>187</td>\n",
       "      <td>51</td>\n",
       "      <td>both</td>\n",
       "    </tr>\n",
       "  </tbody>\n",
       "</table>\n",
       "</div>"
      ],
      "text/plain": [
       "      sex subprovince region  currently_enrolled_x  currently_enrolled_y  \\\n",
       "0  female  Abbottabad  rural                   619                   521   \n",
       "1  female  Abbottabad  urban                    82                    77   \n",
       "2  female      Attock  rural                   763                   636   \n",
       "3  female      Attock  urban                   225                   184   \n",
       "4  female      Awaran  rural                   187                    51   \n",
       "\n",
       "  _merge  \n",
       "0   both  \n",
       "1   both  \n",
       "2   both  \n",
       "3   both  \n",
       "4   both  "
      ]
     },
     "execution_count": 220,
     "metadata": {},
     "output_type": "execute_result"
    }
   ],
   "source": [
    "df_grp_merge.rename(columns = {'sex_new': 'sex'}, inplace=True)\n",
    "df_grp_merge.head()"
   ]
  },
  {
   "cell_type": "code",
   "execution_count": 222,
   "metadata": {},
   "outputs": [
    {
     "data": {
      "text/plain": [
       "female    231\n",
       "male      231\n",
       "Name: sex, dtype: int64"
      ]
     },
     "execution_count": 222,
     "metadata": {},
     "output_type": "execute_result"
    }
   ],
   "source": [
    "df_grp_merge.sex.value_counts()"
   ]
  },
  {
   "cell_type": "code",
   "execution_count": 223,
   "metadata": {},
   "outputs": [
    {
     "data": {
      "text/html": [
       "<div>\n",
       "<style scoped>\n",
       "    .dataframe tbody tr th:only-of-type {\n",
       "        vertical-align: middle;\n",
       "    }\n",
       "\n",
       "    .dataframe tbody tr th {\n",
       "        vertical-align: top;\n",
       "    }\n",
       "\n",
       "    .dataframe thead th {\n",
       "        text-align: right;\n",
       "    }\n",
       "</style>\n",
       "<table border=\"1\" class=\"dataframe\">\n",
       "  <thead>\n",
       "    <tr style=\"text-align: right;\">\n",
       "      <th></th>\n",
       "      <th>sex</th>\n",
       "      <th>subprovince</th>\n",
       "      <th>region</th>\n",
       "      <th>sample_population</th>\n",
       "      <th>enrolled_total</th>\n",
       "      <th>rate_enrollment</th>\n",
       "    </tr>\n",
       "  </thead>\n",
       "  <tbody>\n",
       "    <tr>\n",
       "      <th>384</th>\n",
       "      <td>male</td>\n",
       "      <td>Nowshero Feroze</td>\n",
       "      <td>urban</td>\n",
       "      <td>168</td>\n",
       "      <td>123</td>\n",
       "      <td>0.732143</td>\n",
       "    </tr>\n",
       "    <tr>\n",
       "      <th>156</th>\n",
       "      <td>female</td>\n",
       "      <td>Okara</td>\n",
       "      <td>rural</td>\n",
       "      <td>1051</td>\n",
       "      <td>758</td>\n",
       "      <td>0.721218</td>\n",
       "    </tr>\n",
       "    <tr>\n",
       "      <th>355</th>\n",
       "      <td>male</td>\n",
       "      <td>Mandi Bahauddin</td>\n",
       "      <td>rural</td>\n",
       "      <td>692</td>\n",
       "      <td>556</td>\n",
       "      <td>0.803468</td>\n",
       "    </tr>\n",
       "    <tr>\n",
       "      <th>338</th>\n",
       "      <td>male</td>\n",
       "      <td>Lahore</td>\n",
       "      <td>urban</td>\n",
       "      <td>4201</td>\n",
       "      <td>3369</td>\n",
       "      <td>0.801952</td>\n",
       "    </tr>\n",
       "    <tr>\n",
       "      <th>421</th>\n",
       "      <td>male</td>\n",
       "      <td>Sherani</td>\n",
       "      <td>rural</td>\n",
       "      <td>146</td>\n",
       "      <td>65</td>\n",
       "      <td>0.445205</td>\n",
       "    </tr>\n",
       "  </tbody>\n",
       "</table>\n",
       "</div>"
      ],
      "text/plain": [
       "        sex      subprovince region  sample_population  enrolled_total  \\\n",
       "384    male  Nowshero Feroze  urban                168             123   \n",
       "156  female            Okara  rural               1051             758   \n",
       "355    male  Mandi Bahauddin  rural                692             556   \n",
       "338    male           Lahore  urban               4201            3369   \n",
       "421    male          Sherani  rural                146              65   \n",
       "\n",
       "     rate_enrollment  \n",
       "384         0.732143  \n",
       "156         0.721218  \n",
       "355         0.803468  \n",
       "338         0.801952  \n",
       "421         0.445205  "
      ]
     },
     "execution_count": 223,
     "metadata": {},
     "output_type": "execute_result"
    }
   ],
   "source": [
    "# Code Cell 2:\n",
    "# compute enrollment_rate\n",
    "df_grp_merge[\"rate_enrollment\"] = (\n",
    "    df_grp_merge[\"currently_enrolled_y\"] / df_grp_merge[\"currently_enrolled_x\"]\n",
    ")\n",
    "# rename columns\n",
    "df_grp_merge = df_grp_merge.rename(\n",
    "    columns={\n",
    "        \"currently_enrolled_x\": \"sample_population\",\n",
    "        \"currently_enrolled_y\": \"enrolled_total\",\n",
    "    }\n",
    ")\n",
    "# drop \"_merge\" column\n",
    "df_grp_merge.drop([\"_merge\"], axis=1, inplace=True)\n",
    "df_grp_merge.sample(5)\n"
   ]
  },
  {
   "cell_type": "code",
   "execution_count": null,
   "metadata": {},
   "outputs": [],
   "source": [
    "#Code Cell 3:\n",
    "# save clean difference-in-difference data set\n",
    "# df_grp_merge.to_csv(\"\")\n"
   ]
  }
 ],
 "metadata": {
  "interpreter": {
   "hash": "551c62dc04900b7c9656b03a0ed1114515bcd045db0a145f14557b857526032b"
  },
  "kernelspec": {
   "display_name": "Python 3.8.10 ('base')",
   "language": "python",
   "name": "python3"
  },
  "language_info": {
   "codemirror_mode": {
    "name": "ipython",
    "version": 3
   },
   "file_extension": ".py",
   "mimetype": "text/x-python",
   "name": "python",
   "nbconvert_exporter": "python",
   "pygments_lexer": "ipython3",
   "version": "3.8.10"
  },
  "orig_nbformat": 4
 },
 "nbformat": 4,
 "nbformat_minor": 2
}
