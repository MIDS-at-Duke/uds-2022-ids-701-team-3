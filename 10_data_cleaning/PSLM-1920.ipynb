{
 "cells": [
  {
   "cell_type": "markdown",
   "metadata": {},
   "source": [
    "## Cleaning file for 2019-2020"
   ]
  },
  {
   "cell_type": "code",
   "execution_count": 1,
   "metadata": {},
   "outputs": [],
   "source": [
    "import pandas as pd\n",
    "import numpy as np"
   ]
  },
  {
   "cell_type": "code",
   "execution_count": 2,
   "metadata": {},
   "outputs": [
    {
     "data": {
      "text/html": [
       "<div>\n",
       "<style scoped>\n",
       "    .dataframe tbody tr th:only-of-type {\n",
       "        vertical-align: middle;\n",
       "    }\n",
       "\n",
       "    .dataframe tbody tr th {\n",
       "        vertical-align: top;\n",
       "    }\n",
       "\n",
       "    .dataframe thead th {\n",
       "        text-align: right;\n",
       "    }\n",
       "</style>\n",
       "<table border=\"1\" class=\"dataframe\">\n",
       "  <thead>\n",
       "    <tr style=\"text-align: right;\">\n",
       "      <th></th>\n",
       "      <th>hhcode</th>\n",
       "      <th>psu</th>\n",
       "      <th>province</th>\n",
       "      <th>region</th>\n",
       "      <th>district</th>\n",
       "      <th>idc</th>\n",
       "      <th>sb1q2</th>\n",
       "      <th>sb1q3</th>\n",
       "      <th>sb1q4</th>\n",
       "      <th>sb1q5</th>\n",
       "      <th>age</th>\n",
       "      <th>sb1q62</th>\n",
       "      <th>sb1q63</th>\n",
       "      <th>sb1q64</th>\n",
       "      <th>sb1q7</th>\n",
       "      <th>sb1q8</th>\n",
       "      <th>sb1q9</th>\n",
       "      <th>sb1q10</th>\n",
       "      <th>sb1q11</th>\n",
       "    </tr>\n",
       "  </thead>\n",
       "  <tbody>\n",
       "    <tr>\n",
       "      <th>0</th>\n",
       "      <td>101100101</td>\n",
       "      <td>1011001</td>\n",
       "      <td>khyber pakhtunkhwa</td>\n",
       "      <td>rural</td>\n",
       "      <td>abbottabad</td>\n",
       "      <td>1</td>\n",
       "      <td>head</td>\n",
       "      <td>NaN</td>\n",
       "      <td>male</td>\n",
       "      <td>present</td>\n",
       "      <td>58</td>\n",
       "      <td>0</td>\n",
       "      <td>0</td>\n",
       "      <td>1961.0</td>\n",
       "      <td>currently married</td>\n",
       "      <td>2.0</td>\n",
       "      <td>98.0</td>\n",
       "      <td>99.0</td>\n",
       "      <td>yes</td>\n",
       "    </tr>\n",
       "    <tr>\n",
       "      <th>1</th>\n",
       "      <td>101100102</td>\n",
       "      <td>1011001</td>\n",
       "      <td>khyber pakhtunkhwa</td>\n",
       "      <td>rural</td>\n",
       "      <td>abbottabad</td>\n",
       "      <td>1</td>\n",
       "      <td>head</td>\n",
       "      <td>NaN</td>\n",
       "      <td>male</td>\n",
       "      <td>present</td>\n",
       "      <td>64</td>\n",
       "      <td>0</td>\n",
       "      <td>0</td>\n",
       "      <td>1955.0</td>\n",
       "      <td>currently married</td>\n",
       "      <td>2.0</td>\n",
       "      <td>98.0</td>\n",
       "      <td>10.0</td>\n",
       "      <td>yes</td>\n",
       "    </tr>\n",
       "    <tr>\n",
       "      <th>2</th>\n",
       "      <td>101100103</td>\n",
       "      <td>1011001</td>\n",
       "      <td>khyber pakhtunkhwa</td>\n",
       "      <td>rural</td>\n",
       "      <td>abbottabad</td>\n",
       "      <td>1</td>\n",
       "      <td>head</td>\n",
       "      <td>NaN</td>\n",
       "      <td>male</td>\n",
       "      <td>present</td>\n",
       "      <td>35</td>\n",
       "      <td>0</td>\n",
       "      <td>0</td>\n",
       "      <td>1984.0</td>\n",
       "      <td>currently married</td>\n",
       "      <td>2.0</td>\n",
       "      <td>98.0</td>\n",
       "      <td>99.0</td>\n",
       "      <td>yes</td>\n",
       "    </tr>\n",
       "    <tr>\n",
       "      <th>3</th>\n",
       "      <td>101100104</td>\n",
       "      <td>1011001</td>\n",
       "      <td>khyber pakhtunkhwa</td>\n",
       "      <td>rural</td>\n",
       "      <td>abbottabad</td>\n",
       "      <td>1</td>\n",
       "      <td>head</td>\n",
       "      <td>NaN</td>\n",
       "      <td>male</td>\n",
       "      <td>present</td>\n",
       "      <td>56</td>\n",
       "      <td>0</td>\n",
       "      <td>0</td>\n",
       "      <td>1963.0</td>\n",
       "      <td>currently married</td>\n",
       "      <td>2.0</td>\n",
       "      <td>98.0</td>\n",
       "      <td>99.0</td>\n",
       "      <td>yes</td>\n",
       "    </tr>\n",
       "    <tr>\n",
       "      <th>4</th>\n",
       "      <td>101100105</td>\n",
       "      <td>1011001</td>\n",
       "      <td>khyber pakhtunkhwa</td>\n",
       "      <td>rural</td>\n",
       "      <td>abbottabad</td>\n",
       "      <td>1</td>\n",
       "      <td>head</td>\n",
       "      <td>NaN</td>\n",
       "      <td>male</td>\n",
       "      <td>present</td>\n",
       "      <td>50</td>\n",
       "      <td>0</td>\n",
       "      <td>0</td>\n",
       "      <td>1969.0</td>\n",
       "      <td>currently married</td>\n",
       "      <td>2.0</td>\n",
       "      <td>98.0</td>\n",
       "      <td>98.0</td>\n",
       "      <td>yes</td>\n",
       "    </tr>\n",
       "  </tbody>\n",
       "</table>\n",
       "</div>"
      ],
      "text/plain": [
       "      hhcode      psu            province region    district  idc sb1q2 sb1q3  \\\n",
       "0  101100101  1011001  khyber pakhtunkhwa  rural  abbottabad    1  head   NaN   \n",
       "1  101100102  1011001  khyber pakhtunkhwa  rural  abbottabad    1  head   NaN   \n",
       "2  101100103  1011001  khyber pakhtunkhwa  rural  abbottabad    1  head   NaN   \n",
       "3  101100104  1011001  khyber pakhtunkhwa  rural  abbottabad    1  head   NaN   \n",
       "4  101100105  1011001  khyber pakhtunkhwa  rural  abbottabad    1  head   NaN   \n",
       "\n",
       "  sb1q4    sb1q5  age  sb1q62  sb1q63  sb1q64              sb1q7  sb1q8  \\\n",
       "0  male  present   58       0       0  1961.0  currently married    2.0   \n",
       "1  male  present   64       0       0  1955.0  currently married    2.0   \n",
       "2  male  present   35       0       0  1984.0  currently married    2.0   \n",
       "3  male  present   56       0       0  1963.0  currently married    2.0   \n",
       "4  male  present   50       0       0  1969.0  currently married    2.0   \n",
       "\n",
       "   sb1q9  sb1q10 sb1q11  \n",
       "0   98.0    99.0    yes  \n",
       "1   98.0    10.0    yes  \n",
       "2   98.0    99.0    yes  \n",
       "3   98.0    99.0    yes  \n",
       "4   98.0    98.0    yes  "
      ]
     },
     "execution_count": 2,
     "metadata": {},
     "output_type": "execute_result"
    }
   ],
   "source": [
    "roster_data_1920 = pd.read_stata('/Users/preetkhowaja/Documents/midssp2022/unifying/uds-2022-ids-701-team-3/00_source_data/1920_roster.dta')\n",
    "roster_data_1920.head()"
   ]
  },
  {
   "cell_type": "code",
   "execution_count": 3,
   "metadata": {},
   "outputs": [
    {
     "data": {
      "text/html": [
       "<div>\n",
       "<style scoped>\n",
       "    .dataframe tbody tr th:only-of-type {\n",
       "        vertical-align: middle;\n",
       "    }\n",
       "\n",
       "    .dataframe tbody tr th {\n",
       "        vertical-align: top;\n",
       "    }\n",
       "\n",
       "    .dataframe thead th {\n",
       "        text-align: right;\n",
       "    }\n",
       "</style>\n",
       "<table border=\"1\" class=\"dataframe\">\n",
       "  <thead>\n",
       "    <tr style=\"text-align: right;\">\n",
       "      <th></th>\n",
       "      <th>hhcode</th>\n",
       "      <th>psu</th>\n",
       "      <th>province</th>\n",
       "      <th>region</th>\n",
       "      <th>district</th>\n",
       "      <th>idc</th>\n",
       "      <th>sb1q2</th>\n",
       "      <th>sb1q3</th>\n",
       "      <th>sb1q4</th>\n",
       "      <th>sb1q5</th>\n",
       "      <th>...</th>\n",
       "      <th>sb1q62</th>\n",
       "      <th>sb1q63</th>\n",
       "      <th>sb1q64</th>\n",
       "      <th>sb1q7</th>\n",
       "      <th>sb1q8</th>\n",
       "      <th>sb1q9</th>\n",
       "      <th>sb1q10</th>\n",
       "      <th>sb1q11</th>\n",
       "      <th>sex</th>\n",
       "      <th>marital_status</th>\n",
       "    </tr>\n",
       "  </thead>\n",
       "  <tbody>\n",
       "    <tr>\n",
       "      <th>654227</th>\n",
       "      <td>232200621</td>\n",
       "      <td>2322006</td>\n",
       "      <td>punjab</td>\n",
       "      <td>urban</td>\n",
       "      <td>sahiwal</td>\n",
       "      <td>5</td>\n",
       "      <td>son/daughter</td>\n",
       "      <td>family elder</td>\n",
       "      <td>male</td>\n",
       "      <td>present</td>\n",
       "      <td>...</td>\n",
       "      <td>0</td>\n",
       "      <td>0</td>\n",
       "      <td>2002.0</td>\n",
       "      <td>unmarried / never married</td>\n",
       "      <td>NaN</td>\n",
       "      <td>1.0</td>\n",
       "      <td>2.0</td>\n",
       "      <td>yes</td>\n",
       "      <td>male</td>\n",
       "      <td>unmarried / never married</td>\n",
       "    </tr>\n",
       "    <tr>\n",
       "      <th>626839</th>\n",
       "      <td>211200107</td>\n",
       "      <td>2112001</td>\n",
       "      <td>punjab</td>\n",
       "      <td>urban</td>\n",
       "      <td>hafizabad</td>\n",
       "      <td>5</td>\n",
       "      <td>grand child</td>\n",
       "      <td>main economic provider</td>\n",
       "      <td>female</td>\n",
       "      <td>present</td>\n",
       "      <td>...</td>\n",
       "      <td>5</td>\n",
       "      <td>1</td>\n",
       "      <td>2014.0</td>\n",
       "      <td>unmarried / never married</td>\n",
       "      <td>NaN</td>\n",
       "      <td>3.0</td>\n",
       "      <td>4.0</td>\n",
       "      <td>yes</td>\n",
       "      <td>female</td>\n",
       "      <td>unmarried / never married</td>\n",
       "    </tr>\n",
       "    <tr>\n",
       "      <th>217330</th>\n",
       "      <td>214105605</td>\n",
       "      <td>2141056</td>\n",
       "      <td>punjab</td>\n",
       "      <td>rural</td>\n",
       "      <td>jhang</td>\n",
       "      <td>2</td>\n",
       "      <td>son/daughter</td>\n",
       "      <td>is oldest male in the house</td>\n",
       "      <td>male</td>\n",
       "      <td>present</td>\n",
       "      <td>...</td>\n",
       "      <td>0</td>\n",
       "      <td>0</td>\n",
       "      <td>1974.0</td>\n",
       "      <td>currently married</td>\n",
       "      <td>3.0</td>\n",
       "      <td>1.0</td>\n",
       "      <td>99.0</td>\n",
       "      <td>yes</td>\n",
       "      <td>male</td>\n",
       "      <td>currently married</td>\n",
       "    </tr>\n",
       "    <tr>\n",
       "      <th>795319</th>\n",
       "      <td>313201418</td>\n",
       "      <td>3132014</td>\n",
       "      <td>sindh</td>\n",
       "      <td>urban</td>\n",
       "      <td>khairpur</td>\n",
       "      <td>7</td>\n",
       "      <td>son/daughter in law</td>\n",
       "      <td>main economic provider</td>\n",
       "      <td>female</td>\n",
       "      <td>present</td>\n",
       "      <td>...</td>\n",
       "      <td>0</td>\n",
       "      <td>0</td>\n",
       "      <td>1995.0</td>\n",
       "      <td>currently married</td>\n",
       "      <td>6.0</td>\n",
       "      <td>99.0</td>\n",
       "      <td>99.0</td>\n",
       "      <td>yes</td>\n",
       "      <td>female</td>\n",
       "      <td>currently married</td>\n",
       "    </tr>\n",
       "  </tbody>\n",
       "</table>\n",
       "<p>4 rows × 21 columns</p>\n",
       "</div>"
      ],
      "text/plain": [
       "           hhcode      psu province region   district  idc  \\\n",
       "654227  232200621  2322006   punjab  urban    sahiwal    5   \n",
       "626839  211200107  2112001   punjab  urban  hafizabad    5   \n",
       "217330  214105605  2141056   punjab  rural      jhang    2   \n",
       "795319  313201418  3132014    sindh  urban   khairpur    7   \n",
       "\n",
       "                      sb1q2                        sb1q3   sb1q4    sb1q5  \\\n",
       "654227         son/daughter                 family elder    male  present   \n",
       "626839          grand child       main economic provider  female  present   \n",
       "217330         son/daughter  is oldest male in the house    male  present   \n",
       "795319  son/daughter in law       main economic provider  female  present   \n",
       "\n",
       "        ...  sb1q62  sb1q63  sb1q64                      sb1q7 sb1q8  sb1q9  \\\n",
       "654227  ...       0       0  2002.0  unmarried / never married   NaN    1.0   \n",
       "626839  ...       5       1  2014.0  unmarried / never married   NaN    3.0   \n",
       "217330  ...       0       0  1974.0          currently married   3.0    1.0   \n",
       "795319  ...       0       0  1995.0          currently married   6.0   99.0   \n",
       "\n",
       "        sb1q10  sb1q11     sex             marital_status  \n",
       "654227     2.0     yes    male  unmarried / never married  \n",
       "626839     4.0     yes  female  unmarried / never married  \n",
       "217330    99.0     yes    male          currently married  \n",
       "795319    99.0     yes  female          currently married  \n",
       "\n",
       "[4 rows x 21 columns]"
      ]
     },
     "execution_count": 3,
     "metadata": {},
     "output_type": "execute_result"
    }
   ],
   "source": [
    "# renaming relevant variables from roster\n",
    "roster_data_1920['sex'] = roster_data_1920['sb1q4']\n",
    "roster_data_1920['marital_status'] = roster_data_1920['sb1q7']\n",
    "roster_data_1920.sample(4)"
   ]
  },
  {
   "cell_type": "code",
   "execution_count": 5,
   "metadata": {},
   "outputs": [
    {
     "data": {
      "text/html": [
       "<div>\n",
       "<style scoped>\n",
       "    .dataframe tbody tr th:only-of-type {\n",
       "        vertical-align: middle;\n",
       "    }\n",
       "\n",
       "    .dataframe tbody tr th {\n",
       "        vertical-align: top;\n",
       "    }\n",
       "\n",
       "    .dataframe thead th {\n",
       "        text-align: right;\n",
       "    }\n",
       "</style>\n",
       "<table border=\"1\" class=\"dataframe\">\n",
       "  <thead>\n",
       "    <tr style=\"text-align: right;\">\n",
       "      <th></th>\n",
       "      <th>hhcode</th>\n",
       "      <th>idc</th>\n",
       "      <th>age</th>\n",
       "      <th>sex</th>\n",
       "      <th>marital_status</th>\n",
       "    </tr>\n",
       "  </thead>\n",
       "  <tbody>\n",
       "    <tr>\n",
       "      <th>631759</th>\n",
       "      <td>216101121</td>\n",
       "      <td>5</td>\n",
       "      <td>9</td>\n",
       "      <td>male</td>\n",
       "      <td>unmarried / never married</td>\n",
       "    </tr>\n",
       "    <tr>\n",
       "      <th>672487</th>\n",
       "      <td>317100922</td>\n",
       "      <td>5</td>\n",
       "      <td>10</td>\n",
       "      <td>female</td>\n",
       "      <td>unmarried / never married</td>\n",
       "    </tr>\n",
       "    <tr>\n",
       "      <th>809714</th>\n",
       "      <td>125200521</td>\n",
       "      <td>8</td>\n",
       "      <td>3</td>\n",
       "      <td>female</td>\n",
       "      <td>unmarried / never married</td>\n",
       "    </tr>\n",
       "    <tr>\n",
       "      <th>99976</th>\n",
       "      <td>233200719</td>\n",
       "      <td>1</td>\n",
       "      <td>47</td>\n",
       "      <td>male</td>\n",
       "      <td>currently married</td>\n",
       "    </tr>\n",
       "    <tr>\n",
       "      <th>376414</th>\n",
       "      <td>216105713</td>\n",
       "      <td>3</td>\n",
       "      <td>5</td>\n",
       "      <td>male</td>\n",
       "      <td>unmarried / never married</td>\n",
       "    </tr>\n",
       "  </tbody>\n",
       "</table>\n",
       "</div>"
      ],
      "text/plain": [
       "           hhcode  idc  age     sex             marital_status\n",
       "631759  216101121    5    9    male  unmarried / never married\n",
       "672487  317100922    5   10  female  unmarried / never married\n",
       "809714  125200521    8    3  female  unmarried / never married\n",
       "99976   233200719    1   47    male          currently married\n",
       "376414  216105713    3    5    male  unmarried / never married"
      ]
     },
     "execution_count": 5,
     "metadata": {},
     "output_type": "execute_result"
    }
   ],
   "source": [
    "B_relevant = roster_data_1920[['hhcode', 'idc','age', 'sex', 'marital_status']].copy()\n",
    "B_relevant.sample(5)"
   ]
  },
  {
   "cell_type": "code",
   "execution_count": 9,
   "metadata": {},
   "outputs": [
    {
     "data": {
      "text/plain": [
       "Index(['hhcode', 'psu', 'province', 'region', 'idc', 'district', 'sc1q1a',\n",
       "       'sc1q2a', 'sc1q3a', 'sc1q4a', 'sc1q01', 'sc1q02', 'sc1q03', 'sc1q04',\n",
       "       'sc1q05', 'sc1q06', 'sc1q07', 'sc1q08', 'sc1q09', 'sc1q10', 'sc1q11',\n",
       "       'sc1q12', 'sc1q13', 'sc1q14', 'sc1q15', 'sc1q16', 'sc1q17', 'sc1q18',\n",
       "       'sc1q19a', 'sc1q19b', 'sc1q19c', 'sc1q19d', 'sc1q19e', 'sc1q19f',\n",
       "       'sc1q19g', 'sc1q19h', 'sc1q19i'],\n",
       "      dtype='object')"
      ]
     },
     "execution_count": 9,
     "metadata": {},
     "output_type": "execute_result"
    }
   ],
   "source": [
    "educ_data = pd.read_stata('/Users/preetkhowaja/Documents/midssp2022/unifying/uds-2022-ids-701-team-3/00_source_data/1920_secc1.dta',\n",
    "convert_categoricals=False)\n",
    "educ_data.columns"
   ]
  },
  {
   "cell_type": "code",
   "execution_count": 12,
   "metadata": {},
   "outputs": [
    {
     "data": {
      "text/plain": [
       "1    355074\n",
       "2    244505\n",
       "3    214697\n",
       "Name: sc1q01, dtype: int64"
      ]
     },
     "execution_count": 12,
     "metadata": {},
     "output_type": "execute_result"
    }
   ],
   "source": [
    "educ_data.sc1q01.value_counts()"
   ]
  },
  {
   "cell_type": "code",
   "execution_count": 13,
   "metadata": {},
   "outputs": [
    {
     "data": {
      "text/plain": [
       "no     599579\n",
       "yes    214697\n",
       "Name: currently_enrolled, dtype: int64"
      ]
     },
     "execution_count": 13,
     "metadata": {},
     "output_type": "execute_result"
    }
   ],
   "source": [
    "# Create variable for ever_admitted and currently attending\n",
    "educ_data['ever_admitted'] = np.where(educ_data.sc1q01 == 1, 'no', 'yes')\n",
    "educ_data.ever_admitted.value_counts()\n",
    "educ_data['currently_enrolled'] = np.where(educ_data.sc1q01 == 3, 'yes', 'no')\n",
    "educ_data.currently_enrolled.value_counts()"
   ]
  },
  {
   "cell_type": "code",
   "execution_count": 14,
   "metadata": {},
   "outputs": [
    {
     "data": {
      "text/html": [
       "<div>\n",
       "<style scoped>\n",
       "    .dataframe tbody tr th:only-of-type {\n",
       "        vertical-align: middle;\n",
       "    }\n",
       "\n",
       "    .dataframe tbody tr th {\n",
       "        vertical-align: top;\n",
       "    }\n",
       "\n",
       "    .dataframe thead th {\n",
       "        text-align: right;\n",
       "    }\n",
       "</style>\n",
       "<table border=\"1\" class=\"dataframe\">\n",
       "  <thead>\n",
       "    <tr style=\"text-align: right;\">\n",
       "      <th></th>\n",
       "      <th>hhcode</th>\n",
       "      <th>idc</th>\n",
       "      <th>ever_admitted</th>\n",
       "      <th>currently_enrolled</th>\n",
       "      <th>region</th>\n",
       "      <th>province</th>\n",
       "    </tr>\n",
       "  </thead>\n",
       "  <tbody>\n",
       "    <tr>\n",
       "      <th>37405</th>\n",
       "      <td>108100928</td>\n",
       "      <td>5</td>\n",
       "      <td>no</td>\n",
       "      <td>no</td>\n",
       "      <td>1</td>\n",
       "      <td>1</td>\n",
       "    </tr>\n",
       "    <tr>\n",
       "      <th>535988</th>\n",
       "      <td>234105028</td>\n",
       "      <td>1</td>\n",
       "      <td>no</td>\n",
       "      <td>no</td>\n",
       "      <td>1</td>\n",
       "      <td>2</td>\n",
       "    </tr>\n",
       "    <tr>\n",
       "      <th>448137</th>\n",
       "      <td>227100418</td>\n",
       "      <td>1</td>\n",
       "      <td>yes</td>\n",
       "      <td>no</td>\n",
       "      <td>1</td>\n",
       "      <td>2</td>\n",
       "    </tr>\n",
       "    <tr>\n",
       "      <th>195119</th>\n",
       "      <td>203101324</td>\n",
       "      <td>4</td>\n",
       "      <td>yes</td>\n",
       "      <td>yes</td>\n",
       "      <td>1</td>\n",
       "      <td>2</td>\n",
       "    </tr>\n",
       "    <tr>\n",
       "      <th>672915</th>\n",
       "      <td>317100929</td>\n",
       "      <td>2</td>\n",
       "      <td>no</td>\n",
       "      <td>no</td>\n",
       "      <td>1</td>\n",
       "      <td>3</td>\n",
       "    </tr>\n",
       "  </tbody>\n",
       "</table>\n",
       "</div>"
      ],
      "text/plain": [
       "           hhcode  idc ever_admitted currently_enrolled  region  province\n",
       "37405   108100928    5            no                 no       1         1\n",
       "535988  234105028    1            no                 no       1         2\n",
       "448137  227100418    1           yes                 no       1         2\n",
       "195119  203101324    4           yes                yes       1         2\n",
       "672915  317100929    2            no                 no       1         3"
      ]
     },
     "execution_count": 14,
     "metadata": {},
     "output_type": "execute_result"
    }
   ],
   "source": [
    "C_relevant = educ_data[\n",
    "    [\n",
    "        \"hhcode\",\n",
    "        \"idc\",\n",
    "        \"ever_admitted\",\n",
    "        \"currently_enrolled\",\n",
    "        \"region\",\n",
    "        \"province\"\n",
    "    ]\n",
    "].copy()\n",
    "\n",
    "C_relevant.sample(5)"
   ]
  },
  {
   "cell_type": "code",
   "execution_count": 15,
   "metadata": {},
   "outputs": [
    {
     "data": {
      "text/plain": [
       "no     599579\n",
       "yes    214697\n",
       "Name: currently_enrolled, dtype: int64"
      ]
     },
     "execution_count": 15,
     "metadata": {},
     "output_type": "execute_result"
    }
   ],
   "source": [
    "# MERGE \n",
    "years19_20 = pd.merge(B_relevant, C_relevant, on=[\"hhcode\", 'idc'], how='inner', indicator=False)\n",
    "# Evaluate merge by checking value counts for currently enrolled individuals\n",
    "years19_20.currently_enrolled.value_counts()"
   ]
  },
  {
   "cell_type": "code",
   "execution_count": 17,
   "metadata": {},
   "outputs": [],
   "source": [
    "# Select people in school enrollment age (I would say 4-10 years old)\n",
    "years19_20 = years19_20.loc[(years19_20[\"age\"] >= 4)&(years19_20[\"age\"] <= 15)]\n"
   ]
  },
  {
   "cell_type": "code",
   "execution_count": 20,
   "metadata": {},
   "outputs": [
    {
     "data": {
      "text/plain": [
       "2    128456\n",
       "1     65030\n",
       "3     57372\n",
       "4     30042\n",
       "Name: province, dtype: int64"
      ]
     },
     "execution_count": 20,
     "metadata": {},
     "output_type": "execute_result"
    }
   ],
   "source": [
    "years19_20.province.value_counts()"
   ]
  },
  {
   "cell_type": "code",
   "execution_count": 21,
   "metadata": {},
   "outputs": [
    {
     "data": {
      "text/plain": [
       "Punjab         128456\n",
       "KPK             65030\n",
       "Sindh           57372\n",
       "Balochistan     30042\n",
       "Name: province, dtype: int64"
      ]
     },
     "execution_count": 21,
     "metadata": {},
     "output_type": "execute_result"
    }
   ],
   "source": [
    "# Re-spell the names\n",
    "years19_20['province'].replace(2, 'Punjab', inplace = True)\n",
    "years19_20['province'].replace(1, 'KPK', inplace = True)\n",
    "years19_20['province'].replace(3, 'Sindh', inplace = True)\n",
    "years19_20['province'].replace(4, 'Balochistan', inplace = True)\n",
    "years19_20.province.value_counts()"
   ]
  },
  {
   "cell_type": "code",
   "execution_count": 22,
   "metadata": {},
   "outputs": [
    {
     "data": {
      "text/html": [
       "<div>\n",
       "<style scoped>\n",
       "    .dataframe tbody tr th:only-of-type {\n",
       "        vertical-align: middle;\n",
       "    }\n",
       "\n",
       "    .dataframe tbody tr th {\n",
       "        vertical-align: top;\n",
       "    }\n",
       "\n",
       "    .dataframe thead th {\n",
       "        text-align: right;\n",
       "    }\n",
       "</style>\n",
       "<table border=\"1\" class=\"dataframe\">\n",
       "  <thead>\n",
       "    <tr style=\"text-align: right;\">\n",
       "      <th></th>\n",
       "      <th>hhcode</th>\n",
       "      <th>idc</th>\n",
       "      <th>age</th>\n",
       "      <th>sex</th>\n",
       "      <th>marital_status</th>\n",
       "      <th>ever_admitted</th>\n",
       "      <th>currently_enrolled</th>\n",
       "      <th>region</th>\n",
       "      <th>province</th>\n",
       "      <th>subprovince code</th>\n",
       "    </tr>\n",
       "  </thead>\n",
       "  <tbody>\n",
       "    <tr>\n",
       "      <th>7204</th>\n",
       "      <td>109100622</td>\n",
       "      <td>1</td>\n",
       "      <td>15</td>\n",
       "      <td>male</td>\n",
       "      <td>unmarried / never married</td>\n",
       "      <td>yes</td>\n",
       "      <td>yes</td>\n",
       "      <td>1</td>\n",
       "      <td>KPK</td>\n",
       "      <td>1091</td>\n",
       "    </tr>\n",
       "    <tr>\n",
       "      <th>12381</th>\n",
       "      <td>115100530</td>\n",
       "      <td>1</td>\n",
       "      <td>15</td>\n",
       "      <td>male</td>\n",
       "      <td>unmarried / never married</td>\n",
       "      <td>yes</td>\n",
       "      <td>yes</td>\n",
       "      <td>1</td>\n",
       "      <td>KPK</td>\n",
       "      <td>1151</td>\n",
       "    </tr>\n",
       "    <tr>\n",
       "      <th>17584</th>\n",
       "      <td>120104015</td>\n",
       "      <td>1</td>\n",
       "      <td>15</td>\n",
       "      <td>female</td>\n",
       "      <td>unmarried / never married</td>\n",
       "      <td>yes</td>\n",
       "      <td>no</td>\n",
       "      <td>1</td>\n",
       "      <td>KPK</td>\n",
       "      <td>1201</td>\n",
       "    </tr>\n",
       "    <tr>\n",
       "      <th>29290</th>\n",
       "      <td>201102822</td>\n",
       "      <td>1</td>\n",
       "      <td>15</td>\n",
       "      <td>male</td>\n",
       "      <td>unmarried / never married</td>\n",
       "      <td>yes</td>\n",
       "      <td>yes</td>\n",
       "      <td>1</td>\n",
       "      <td>Punjab</td>\n",
       "      <td>2011</td>\n",
       "    </tr>\n",
       "    <tr>\n",
       "      <th>30235</th>\n",
       "      <td>202100124</td>\n",
       "      <td>1</td>\n",
       "      <td>10</td>\n",
       "      <td>female</td>\n",
       "      <td>unmarried / never married</td>\n",
       "      <td>yes</td>\n",
       "      <td>yes</td>\n",
       "      <td>1</td>\n",
       "      <td>Punjab</td>\n",
       "      <td>2021</td>\n",
       "    </tr>\n",
       "  </tbody>\n",
       "</table>\n",
       "</div>"
      ],
      "text/plain": [
       "          hhcode  idc  age     sex             marital_status ever_admitted  \\\n",
       "7204   109100622    1   15    male  unmarried / never married           yes   \n",
       "12381  115100530    1   15    male  unmarried / never married           yes   \n",
       "17584  120104015    1   15  female  unmarried / never married           yes   \n",
       "29290  201102822    1   15    male  unmarried / never married           yes   \n",
       "30235  202100124    1   10  female  unmarried / never married           yes   \n",
       "\n",
       "      currently_enrolled  region province  subprovince code  \n",
       "7204                 yes       1      KPK              1091  \n",
       "12381                yes       1      KPK              1151  \n",
       "17584                 no       1      KPK              1201  \n",
       "29290                yes       1   Punjab              2011  \n",
       "30235                yes       1   Punjab              2021  "
      ]
     },
     "execution_count": 22,
     "metadata": {},
     "output_type": "execute_result"
    }
   ],
   "source": [
    "# Lets see which hh codes we have:\n",
    "years19_20[\"hhcode\"] = years19_20[\"hhcode\"].astype(\"str\")\n",
    "years19_20['subprovince code']= years19_20['hhcode'].apply(lambda x: x[0:4])\n",
    "years19_20[\"subprovince code\"] = years19_20[\"subprovince code\"].astype(\"int\")\n",
    "years19_20.head()"
   ]
  },
  {
   "cell_type": "code",
   "execution_count": 25,
   "metadata": {},
   "outputs": [
    {
     "data": {
      "text/html": [
       "<div>\n",
       "<style scoped>\n",
       "    .dataframe tbody tr th:only-of-type {\n",
       "        vertical-align: middle;\n",
       "    }\n",
       "\n",
       "    .dataframe tbody tr th {\n",
       "        vertical-align: top;\n",
       "    }\n",
       "\n",
       "    .dataframe thead th {\n",
       "        text-align: right;\n",
       "    }\n",
       "</style>\n",
       "<table border=\"1\" class=\"dataframe\">\n",
       "  <thead>\n",
       "    <tr style=\"text-align: right;\">\n",
       "      <th></th>\n",
       "      <th>subprovince</th>\n",
       "      <th>subprovince code</th>\n",
       "    </tr>\n",
       "  </thead>\n",
       "  <tbody>\n",
       "    <tr>\n",
       "      <th>225</th>\n",
       "      <td>Jamshoro</td>\n",
       "      <td>3061</td>\n",
       "    </tr>\n",
       "    <tr>\n",
       "      <th>265</th>\n",
       "      <td>Loralai</td>\n",
       "      <td>4171</td>\n",
       "    </tr>\n",
       "  </tbody>\n",
       "</table>\n",
       "</div>"
      ],
      "text/plain": [
       "    subprovince  subprovince code\n",
       "225    Jamshoro              3061\n",
       "265     Loralai              4171"
      ]
     },
     "execution_count": 25,
     "metadata": {},
     "output_type": "execute_result"
    }
   ],
   "source": [
    "# Add stratum data\n",
    "stratum_1920 = pd.read_csv('/Users/preetkhowaja/Documents/midssp2022/unifying/uds-2022-ids-701-team-3/00_source_data/stratum1920.csv')\n",
    "stratum_1920.sample(2)"
   ]
  },
  {
   "cell_type": "code",
   "execution_count": 26,
   "metadata": {},
   "outputs": [
    {
     "data": {
      "text/plain": [
       "both          280900\n",
       "left_only          0\n",
       "right_only         0\n",
       "Name: _merge, dtype: int64"
      ]
     },
     "execution_count": 26,
     "metadata": {},
     "output_type": "execute_result"
    }
   ],
   "source": [
    "# Merge stratum data with edu and sex data\n",
    "years19_20_ = pd.merge(years19_20, stratum_1920, on=[\"subprovince code\"], how='inner', indicator=True)\n",
    "\n",
    "# Evaluate merge \n",
    "years19_20_._merge.value_counts()"
   ]
  },
  {
   "cell_type": "code",
   "execution_count": 27,
   "metadata": {},
   "outputs": [
    {
     "data": {
      "text/html": [
       "<div>\n",
       "<style scoped>\n",
       "    .dataframe tbody tr th:only-of-type {\n",
       "        vertical-align: middle;\n",
       "    }\n",
       "\n",
       "    .dataframe tbody tr th {\n",
       "        vertical-align: top;\n",
       "    }\n",
       "\n",
       "    .dataframe thead th {\n",
       "        text-align: right;\n",
       "    }\n",
       "</style>\n",
       "<table border=\"1\" class=\"dataframe\">\n",
       "  <thead>\n",
       "    <tr style=\"text-align: right;\">\n",
       "      <th></th>\n",
       "      <th>hhcode</th>\n",
       "      <th>idc</th>\n",
       "      <th>age</th>\n",
       "      <th>sex</th>\n",
       "      <th>marital_status</th>\n",
       "      <th>ever_admitted</th>\n",
       "      <th>currently_enrolled</th>\n",
       "      <th>region</th>\n",
       "      <th>province</th>\n",
       "      <th>subprovince code</th>\n",
       "      <th>subprovince</th>\n",
       "    </tr>\n",
       "  </thead>\n",
       "  <tbody>\n",
       "    <tr>\n",
       "      <th>0</th>\n",
       "      <td>109100622</td>\n",
       "      <td>1</td>\n",
       "      <td>15</td>\n",
       "      <td>male</td>\n",
       "      <td>unmarried / never married</td>\n",
       "      <td>yes</td>\n",
       "      <td>yes</td>\n",
       "      <td>1</td>\n",
       "      <td>KPK</td>\n",
       "      <td>1091</td>\n",
       "      <td>Hangu</td>\n",
       "    </tr>\n",
       "    <tr>\n",
       "      <th>1</th>\n",
       "      <td>109100106</td>\n",
       "      <td>2</td>\n",
       "      <td>14</td>\n",
       "      <td>male</td>\n",
       "      <td>unmarried / never married</td>\n",
       "      <td>yes</td>\n",
       "      <td>yes</td>\n",
       "      <td>1</td>\n",
       "      <td>KPK</td>\n",
       "      <td>1091</td>\n",
       "      <td>Hangu</td>\n",
       "    </tr>\n",
       "    <tr>\n",
       "      <th>2</th>\n",
       "      <td>109100118</td>\n",
       "      <td>2</td>\n",
       "      <td>6</td>\n",
       "      <td>female</td>\n",
       "      <td>unmarried / never married</td>\n",
       "      <td>yes</td>\n",
       "      <td>yes</td>\n",
       "      <td>1</td>\n",
       "      <td>KPK</td>\n",
       "      <td>1091</td>\n",
       "      <td>Hangu</td>\n",
       "    </tr>\n",
       "    <tr>\n",
       "      <th>3</th>\n",
       "      <td>109100122</td>\n",
       "      <td>2</td>\n",
       "      <td>15</td>\n",
       "      <td>male</td>\n",
       "      <td>unmarried / never married</td>\n",
       "      <td>yes</td>\n",
       "      <td>yes</td>\n",
       "      <td>1</td>\n",
       "      <td>KPK</td>\n",
       "      <td>1091</td>\n",
       "      <td>Hangu</td>\n",
       "    </tr>\n",
       "    <tr>\n",
       "      <th>4</th>\n",
       "      <td>109100204</td>\n",
       "      <td>2</td>\n",
       "      <td>10</td>\n",
       "      <td>male</td>\n",
       "      <td>unmarried / never married</td>\n",
       "      <td>yes</td>\n",
       "      <td>yes</td>\n",
       "      <td>1</td>\n",
       "      <td>KPK</td>\n",
       "      <td>1091</td>\n",
       "      <td>Hangu</td>\n",
       "    </tr>\n",
       "  </tbody>\n",
       "</table>\n",
       "</div>"
      ],
      "text/plain": [
       "      hhcode  idc  age     sex             marital_status ever_admitted  \\\n",
       "0  109100622    1   15    male  unmarried / never married           yes   \n",
       "1  109100106    2   14    male  unmarried / never married           yes   \n",
       "2  109100118    2    6  female  unmarried / never married           yes   \n",
       "3  109100122    2   15    male  unmarried / never married           yes   \n",
       "4  109100204    2   10    male  unmarried / never married           yes   \n",
       "\n",
       "  currently_enrolled  region province  subprovince code subprovince  \n",
       "0                yes       1      KPK              1091       Hangu  \n",
       "1                yes       1      KPK              1091       Hangu  \n",
       "2                yes       1      KPK              1091       Hangu  \n",
       "3                yes       1      KPK              1091       Hangu  \n",
       "4                yes       1      KPK              1091       Hangu  "
      ]
     },
     "execution_count": 27,
     "metadata": {},
     "output_type": "execute_result"
    }
   ],
   "source": [
    "years19_20_.drop(columns= ['_merge'], inplace = True)\n",
    "years19_20_.head()"
   ]
  },
  {
   "cell_type": "code",
   "execution_count": 28,
   "metadata": {},
   "outputs": [],
   "source": [
    "# Indicator for year\n",
    "years19_20_['Year'] = 2019\n"
   ]
  },
  {
   "cell_type": "code",
   "execution_count": 29,
   "metadata": {},
   "outputs": [
    {
     "data": {
      "text/plain": [
       "unmarried / never married                         280713\n",
       "nikkah solemnized but rukhsati not taken place        99\n",
       "currently married                                     83\n",
       "separated                                              3\n",
       "divorced                                               2\n",
       "0                                                      0\n",
       "widow / widower                                        0\n",
       "Name: marital_status, dtype: int64"
      ]
     },
     "execution_count": 29,
     "metadata": {},
     "output_type": "execute_result"
    }
   ],
   "source": [
    "years19_20_.marital_status.value_counts()"
   ]
  },
  {
   "cell_type": "code",
   "execution_count": 30,
   "metadata": {},
   "outputs": [
    {
     "data": {
      "text/plain": [
       "1    280713\n",
       "5        99\n",
       "2        83\n",
       "4         5\n",
       "0         0\n",
       "3         0\n",
       "Name: marital_status, dtype: int64"
      ]
     },
     "execution_count": 30,
     "metadata": {},
     "output_type": "execute_result"
    }
   ],
   "source": [
    "# Recode marital status\n",
    "years19_20_.marital_status.replace('unmarried / never married', 1, inplace = True)\n",
    "years19_20_.marital_status.replace('currently married', 2, inplace = True)\n",
    "years19_20_.marital_status.replace('widow / widower', 3, inplace = True)\n",
    "years19_20_.marital_status.replace('separated', 4, inplace = True)\n",
    "years19_20_.marital_status.replace('divorced', 4, inplace = True)\n",
    "years19_20_.marital_status.replace('nikkah solemnized but rukhsati not taken place', 5, inplace = True)\n",
    "years19_20_.marital_status.value_counts()"
   ]
  },
  {
   "cell_type": "code",
   "execution_count": 34,
   "metadata": {},
   "outputs": [
    {
     "data": {
      "text/plain": [
       "1    207443\n",
       "2     73457\n",
       "Name: region, dtype: int64"
      ]
     },
     "execution_count": 34,
     "metadata": {},
     "output_type": "execute_result"
    }
   ],
   "source": [
    "years19_20_.marital_status = years19_20_.marital_status.astype('int')\n",
    "years19_20_.region.value_counts()"
   ]
  },
  {
   "cell_type": "code",
   "execution_count": 35,
   "metadata": {},
   "outputs": [],
   "source": [
    "#Re-code region\n",
    "years19_20_.region.replace(1, 'rural', inplace = True)\n",
    "years19_20_.region.replace(2, 'urban', inplace = True)\n"
   ]
  },
  {
   "cell_type": "code",
   "execution_count": 36,
   "metadata": {},
   "outputs": [
    {
     "data": {
      "text/plain": [
       "hhcode                  object\n",
       "idc                       int8\n",
       "age                      int16\n",
       "sex                   category\n",
       "marital_status           int64\n",
       "ever_admitted           object\n",
       "currently_enrolled      object\n",
       "region                  object\n",
       "province                object\n",
       "subprovince code         int64\n",
       "subprovince             object\n",
       "Year                     int64\n",
       "dtype: object"
      ]
     },
     "execution_count": 36,
     "metadata": {},
     "output_type": "execute_result"
    }
   ],
   "source": [
    "years19_20_.dtypes"
   ]
  },
  {
   "cell_type": "code",
   "execution_count": null,
   "metadata": {},
   "outputs": [],
   "source": [
    "# Save to csv\n",
    "years19_20_.to_csv('/Users/preetkhowaja/Documents/midssp2022/unifying/uds-2022-ids-701-team-3/10_data_cleaning/clean_preet/years19_20_.csv', index_label='id')"
   ]
  }
 ],
 "metadata": {
  "interpreter": {
   "hash": "551c62dc04900b7c9656b03a0ed1114515bcd045db0a145f14557b857526032b"
  },
  "kernelspec": {
   "display_name": "Python 3.8.10 ('base')",
   "language": "python",
   "name": "python3"
  },
  "language_info": {
   "codemirror_mode": {
    "name": "ipython",
    "version": 3
   },
   "file_extension": ".py",
   "mimetype": "text/x-python",
   "name": "python",
   "nbconvert_exporter": "python",
   "pygments_lexer": "ipython3",
   "version": "3.8.10"
  },
  "orig_nbformat": 4
 },
 "nbformat": 4,
 "nbformat_minor": 2
}
